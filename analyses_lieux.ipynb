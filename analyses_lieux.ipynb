{
 "cells": [
  {
   "cell_type": "code",
   "execution_count": 48,
   "metadata": {},
   "outputs": [
    {
     "ename": "SyntaxError",
     "evalue": "invalid syntax (1036834053.py, line 1)",
     "output_type": "error",
     "traceback": [
      "\u001b[0;36m  Cell \u001b[0;32mIn[48], line 1\u001b[0;36m\u001b[0m\n\u001b[0;31m    Analyses des causes des accidents: lieux\u001b[0m\n\u001b[0m             ^\u001b[0m\n\u001b[0;31mSyntaxError\u001b[0m\u001b[0;31m:\u001b[0m invalid syntax\n"
     ]
    }
   ],
   "source": [
    "Analyses des causes des accidents: lieux"
   ]
  },
  {
   "cell_type": "code",
   "execution_count": 49,
   "metadata": {},
   "outputs": [],
   "source": [
    "import pandas as pd\n",
    "import numpy as np"
   ]
  },
  {
   "cell_type": "code",
   "execution_count": 50,
   "metadata": {},
   "outputs": [
    {
     "name": "stderr",
     "output_type": "stream",
     "text": [
      "/tmp/ipykernel_33975/1160162473.py:1: DtypeWarning: Columns (12) have mixed types. Specify dtype option on import or set low_memory=False.\n",
      "  df = pd.read_csv(\"Data/lieux-2023.csv\", encoding = 'utf-8', delimiter = \";\")\n"
     ]
    }
   ],
   "source": [
    "df = pd.read_csv(\"Data/lieux-2023.csv\", encoding = 'utf-8', delimiter = \";\")"
   ]
  },
  {
   "cell_type": "code",
   "execution_count": 51,
   "metadata": {},
   "outputs": [
    {
     "name": "stdout",
     "output_type": "stream",
     "text": [
      "<class 'pandas.core.frame.DataFrame'>\n",
      "RangeIndex: 70860 entries, 0 to 70859\n",
      "Data columns (total 18 columns):\n",
      " #   Column   Non-Null Count  Dtype \n",
      "---  ------   --------------  ----- \n",
      " 0   Num_Acc  70860 non-null  int64 \n",
      " 1   catr     70860 non-null  int64 \n",
      " 2   voie     58113 non-null  object\n",
      " 3   v1       70860 non-null  int64 \n",
      " 4   v2       5884 non-null   object\n",
      " 5   circ     70860 non-null  int64 \n",
      " 6   nbv      70860 non-null  object\n",
      " 7   vosp     70860 non-null  int64 \n",
      " 8   prof     70860 non-null  int64 \n",
      " 9   pr       70860 non-null  object\n",
      " 10  pr1      70860 non-null  object\n",
      " 11  plan     70860 non-null  int64 \n",
      " 12  lartpc   31 non-null     object\n",
      " 13  larrout  70860 non-null  object\n",
      " 14  surf     70860 non-null  int64 \n",
      " 15  infra    70860 non-null  int64 \n",
      " 16  situ     70860 non-null  int64 \n",
      " 17  vma      70860 non-null  int64 \n",
      "dtypes: int64(11), object(7)\n",
      "memory usage: 9.7+ MB\n"
     ]
    }
   ],
   "source": [
    "df.info()"
   ]
  },
  {
   "cell_type": "code",
   "execution_count": 52,
   "metadata": {},
   "outputs": [
    {
     "data": {
      "text/plain": [
       "Num_Acc        0\n",
       "catr           0\n",
       "voie       12747\n",
       "v1             0\n",
       "v2         64976\n",
       "circ           0\n",
       "nbv            0\n",
       "vosp           0\n",
       "prof           0\n",
       "pr             0\n",
       "pr1            0\n",
       "plan           0\n",
       "lartpc     70829\n",
       "larrout        0\n",
       "surf           0\n",
       "infra          0\n",
       "situ           0\n",
       "vma            0\n",
       "dtype: int64"
      ]
     },
     "execution_count": 52,
     "metadata": {},
     "output_type": "execute_result"
    }
   ],
   "source": [
    "df.isnull().sum(axis =0)"
   ]
  },
  {
   "cell_type": "code",
   "execution_count": 53,
   "metadata": {},
   "outputs": [
    {
     "data": {
      "text/html": [
       "<div>\n",
       "<style scoped>\n",
       "    .dataframe tbody tr th:only-of-type {\n",
       "        vertical-align: middle;\n",
       "    }\n",
       "\n",
       "    .dataframe tbody tr th {\n",
       "        vertical-align: top;\n",
       "    }\n",
       "\n",
       "    .dataframe thead th {\n",
       "        text-align: right;\n",
       "    }\n",
       "</style>\n",
       "<table border=\"1\" class=\"dataframe\">\n",
       "  <thead>\n",
       "    <tr style=\"text-align: right;\">\n",
       "      <th></th>\n",
       "      <th>Num_Acc</th>\n",
       "      <th>catr</th>\n",
       "      <th>v1</th>\n",
       "      <th>circ</th>\n",
       "      <th>vosp</th>\n",
       "      <th>prof</th>\n",
       "      <th>plan</th>\n",
       "      <th>surf</th>\n",
       "      <th>infra</th>\n",
       "      <th>situ</th>\n",
       "      <th>vma</th>\n",
       "    </tr>\n",
       "  </thead>\n",
       "  <tbody>\n",
       "    <tr>\n",
       "      <th>count</th>\n",
       "      <td>7.086000e+04</td>\n",
       "      <td>70860.000000</td>\n",
       "      <td>70860.000000</td>\n",
       "      <td>70860.000000</td>\n",
       "      <td>70860.000000</td>\n",
       "      <td>70860.000000</td>\n",
       "      <td>70860.00000</td>\n",
       "      <td>70860.000000</td>\n",
       "      <td>70860.000000</td>\n",
       "      <td>70860.000000</td>\n",
       "      <td>70860.000000</td>\n",
       "    </tr>\n",
       "    <tr>\n",
       "      <th>mean</th>\n",
       "      <td>2.023000e+11</td>\n",
       "      <td>3.397403</td>\n",
       "      <td>-0.228860</td>\n",
       "      <td>1.712673</td>\n",
       "      <td>0.183164</td>\n",
       "      <td>1.206336</td>\n",
       "      <td>1.26733</td>\n",
       "      <td>1.254036</td>\n",
       "      <td>0.811177</td>\n",
       "      <td>1.611727</td>\n",
       "      <td>53.306393</td>\n",
       "    </tr>\n",
       "    <tr>\n",
       "      <th>std</th>\n",
       "      <td>1.581802e+04</td>\n",
       "      <td>1.113553</td>\n",
       "      <td>0.431536</td>\n",
       "      <td>0.942601</td>\n",
       "      <td>0.744139</td>\n",
       "      <td>0.534770</td>\n",
       "      <td>0.65518</td>\n",
       "      <td>0.756575</td>\n",
       "      <td>2.162585</td>\n",
       "      <td>1.627796</td>\n",
       "      <td>26.001154</td>\n",
       "    </tr>\n",
       "    <tr>\n",
       "      <th>min</th>\n",
       "      <td>2.023000e+11</td>\n",
       "      <td>1.000000</td>\n",
       "      <td>-1.000000</td>\n",
       "      <td>-1.000000</td>\n",
       "      <td>-1.000000</td>\n",
       "      <td>-1.000000</td>\n",
       "      <td>-1.00000</td>\n",
       "      <td>-1.000000</td>\n",
       "      <td>-1.000000</td>\n",
       "      <td>-1.000000</td>\n",
       "      <td>-1.000000</td>\n",
       "    </tr>\n",
       "    <tr>\n",
       "      <th>25%</th>\n",
       "      <td>2.023000e+11</td>\n",
       "      <td>3.000000</td>\n",
       "      <td>0.000000</td>\n",
       "      <td>1.000000</td>\n",
       "      <td>0.000000</td>\n",
       "      <td>1.000000</td>\n",
       "      <td>1.00000</td>\n",
       "      <td>1.000000</td>\n",
       "      <td>0.000000</td>\n",
       "      <td>1.000000</td>\n",
       "      <td>30.000000</td>\n",
       "    </tr>\n",
       "    <tr>\n",
       "      <th>50%</th>\n",
       "      <td>2.023000e+11</td>\n",
       "      <td>3.000000</td>\n",
       "      <td>0.000000</td>\n",
       "      <td>2.000000</td>\n",
       "      <td>0.000000</td>\n",
       "      <td>1.000000</td>\n",
       "      <td>1.00000</td>\n",
       "      <td>1.000000</td>\n",
       "      <td>0.000000</td>\n",
       "      <td>1.000000</td>\n",
       "      <td>50.000000</td>\n",
       "    </tr>\n",
       "    <tr>\n",
       "      <th>75%</th>\n",
       "      <td>2.023000e+11</td>\n",
       "      <td>4.000000</td>\n",
       "      <td>0.000000</td>\n",
       "      <td>2.000000</td>\n",
       "      <td>0.000000</td>\n",
       "      <td>1.000000</td>\n",
       "      <td>1.00000</td>\n",
       "      <td>1.000000</td>\n",
       "      <td>0.000000</td>\n",
       "      <td>1.000000</td>\n",
       "      <td>70.000000</td>\n",
       "    </tr>\n",
       "    <tr>\n",
       "      <th>max</th>\n",
       "      <td>2.023001e+11</td>\n",
       "      <td>9.000000</td>\n",
       "      <td>3.000000</td>\n",
       "      <td>4.000000</td>\n",
       "      <td>3.000000</td>\n",
       "      <td>4.000000</td>\n",
       "      <td>4.00000</td>\n",
       "      <td>9.000000</td>\n",
       "      <td>9.000000</td>\n",
       "      <td>8.000000</td>\n",
       "      <td>130.000000</td>\n",
       "    </tr>\n",
       "  </tbody>\n",
       "</table>\n",
       "</div>"
      ],
      "text/plain": [
       "            Num_Acc          catr            v1          circ          vosp  \\\n",
       "count  7.086000e+04  70860.000000  70860.000000  70860.000000  70860.000000   \n",
       "mean   2.023000e+11      3.397403     -0.228860      1.712673      0.183164   \n",
       "std    1.581802e+04      1.113553      0.431536      0.942601      0.744139   \n",
       "min    2.023000e+11      1.000000     -1.000000     -1.000000     -1.000000   \n",
       "25%    2.023000e+11      3.000000      0.000000      1.000000      0.000000   \n",
       "50%    2.023000e+11      3.000000      0.000000      2.000000      0.000000   \n",
       "75%    2.023000e+11      4.000000      0.000000      2.000000      0.000000   \n",
       "max    2.023001e+11      9.000000      3.000000      4.000000      3.000000   \n",
       "\n",
       "               prof         plan          surf         infra          situ  \\\n",
       "count  70860.000000  70860.00000  70860.000000  70860.000000  70860.000000   \n",
       "mean       1.206336      1.26733      1.254036      0.811177      1.611727   \n",
       "std        0.534770      0.65518      0.756575      2.162585      1.627796   \n",
       "min       -1.000000     -1.00000     -1.000000     -1.000000     -1.000000   \n",
       "25%        1.000000      1.00000      1.000000      0.000000      1.000000   \n",
       "50%        1.000000      1.00000      1.000000      0.000000      1.000000   \n",
       "75%        1.000000      1.00000      1.000000      0.000000      1.000000   \n",
       "max        4.000000      4.00000      9.000000      9.000000      8.000000   \n",
       "\n",
       "                vma  \n",
       "count  70860.000000  \n",
       "mean      53.306393  \n",
       "std       26.001154  \n",
       "min       -1.000000  \n",
       "25%       30.000000  \n",
       "50%       50.000000  \n",
       "75%       70.000000  \n",
       "max      130.000000  "
      ]
     },
     "execution_count": 53,
     "metadata": {},
     "output_type": "execute_result"
    }
   ],
   "source": [
    "df.describe()"
   ]
  },
  {
   "cell_type": "code",
   "execution_count": 54,
   "metadata": {},
   "outputs": [
    {
     "data": {
      "text/plain": [
       "catr\n",
       "4    0.456732\n",
       "3    0.377251\n",
       "1    0.073130\n",
       "2    0.056661\n",
       "7    0.026136\n",
       "6    0.005828\n",
       "9    0.003260\n",
       "5    0.001002\n",
       "Name: proportion, dtype: float64"
      ]
     },
     "execution_count": 54,
     "metadata": {},
     "output_type": "execute_result"
    }
   ],
   "source": [
    "df['catr'].value_counts(normalize =True)"
   ]
  },
  {
   "cell_type": "code",
   "execution_count": 55,
   "metadata": {},
   "outputs": [
    {
     "data": {
      "text/plain": [
       "circ\n",
       " 2    0.613647\n",
       " 1    0.198095\n",
       " 3    0.111459\n",
       "-1    0.070858\n",
       " 4    0.005941\n",
       "Name: proportion, dtype: float64"
      ]
     },
     "execution_count": 55,
     "metadata": {},
     "output_type": "execute_result"
    }
   ],
   "source": [
    "df['circ'].value_counts(normalize =True)"
   ]
  },
  {
   "cell_type": "code",
   "execution_count": 56,
   "metadata": {},
   "outputs": [
    {
     "name": "stdout",
     "output_type": "stream",
     "text": [
      "15\n"
     ]
    }
   ],
   "source": [
    "print(len(df['nbv'].unique()))"
   ]
  },
  {
   "cell_type": "code",
   "execution_count": 57,
   "metadata": {},
   "outputs": [
    {
     "data": {
      "text/plain": [
       "nbv\n",
       "2               0.600903\n",
       "1               0.118445\n",
       "4               0.085972\n",
       "3               0.072043\n",
       " -1             0.058609\n",
       "0               0.029354\n",
       "6               0.016892\n",
       "5               0.010246\n",
       "8               0.004121\n",
       "7               0.001327\n",
       "#VALEURMULTI    0.000762\n",
       "10              0.000677\n",
       "9               0.000325\n",
       "12              0.000226\n",
       "11              0.000099\n",
       "Name: proportion, dtype: float64"
      ]
     },
     "execution_count": 57,
     "metadata": {},
     "output_type": "execute_result"
    }
   ],
   "source": [
    "df['nbv'].value_counts(normalize =True)"
   ]
  },
  {
   "cell_type": "code",
   "execution_count": 58,
   "metadata": {},
   "outputs": [
    {
     "data": {
      "text/plain": [
       "vosp\n",
       " 0    0.815072\n",
       "-1    0.055800\n",
       " 1    0.055715\n",
       " 2    0.036988\n",
       " 3    0.036424\n",
       "Name: proportion, dtype: float64"
      ]
     },
     "execution_count": 58,
     "metadata": {},
     "output_type": "execute_result"
    }
   ],
   "source": [
    "df['vosp'].value_counts(normalize =True)"
   ]
  },
  {
   "cell_type": "code",
   "execution_count": 59,
   "metadata": {},
   "outputs": [
    {
     "data": {
      "text/plain": [
       "prof\n",
       " 1    0.824287\n",
       " 2    0.145795\n",
       " 3    0.014324\n",
       " 4    0.012616\n",
       "-1    0.002978\n",
       "Name: proportion, dtype: float64"
      ]
     },
     "execution_count": 59,
     "metadata": {},
     "output_type": "execute_result"
    }
   ],
   "source": [
    "df['prof'].value_counts(normalize =True)"
   ]
  },
  {
   "cell_type": "code",
   "execution_count": 60,
   "metadata": {},
   "outputs": [
    {
     "data": {
      "text/plain": [
       "pr\n",
       " -1      0.420491\n",
       "0        0.202272\n",
       "1        0.041575\n",
       "2        0.020519\n",
       "3        0.017866\n",
       "           ...   \n",
       "443      0.000014\n",
       "510      0.000014\n",
       "390      0.000014\n",
       "1 630    0.000014\n",
       "368      0.000014\n",
       "Name: proportion, Length: 446, dtype: float64"
      ]
     },
     "execution_count": 60,
     "metadata": {},
     "output_type": "execute_result"
    }
   ],
   "source": [
    "df['pr'].value_counts(normalize =True)"
   ]
  },
  {
   "cell_type": "code",
   "execution_count": 61,
   "metadata": {},
   "outputs": [
    {
     "data": {
      "text/plain": [
       "pr1\n",
       " -1      0.423144\n",
       "0        0.208524\n",
       "1        0.031471\n",
       "500      0.026447\n",
       "200      0.014776\n",
       "           ...   \n",
       "1 023    0.000014\n",
       "1 139    0.000014\n",
       "752      0.000014\n",
       "1 236    0.000014\n",
       "562      0.000014\n",
       "Name: proportion, Length: 1363, dtype: float64"
      ]
     },
     "execution_count": 61,
     "metadata": {},
     "output_type": "execute_result"
    }
   ],
   "source": [
    "df['pr1'].value_counts(normalize =True)"
   ]
  },
  {
   "cell_type": "code",
   "execution_count": 62,
   "metadata": {},
   "outputs": [
    {
     "data": {
      "text/plain": [
       "plan\n",
       " 1    0.824640\n",
       " 2    0.084970\n",
       " 3    0.077237\n",
       " 4    0.010838\n",
       "-1    0.002314\n",
       "Name: proportion, dtype: float64"
      ]
     },
     "execution_count": 62,
     "metadata": {},
     "output_type": "execute_result"
    }
   ],
   "source": [
    "df['plan'].value_counts(normalize =True)"
   ]
  },
  {
   "cell_type": "code",
   "execution_count": 63,
   "metadata": {},
   "outputs": [
    {
     "data": {
      "text/plain": [
       "larrout\n",
       " -1     0.742083\n",
       "7       0.062221\n",
       "5,5     0.045809\n",
       "4       0.030003\n",
       "5       0.028422\n",
       "          ...   \n",
       "47      0.000014\n",
       "12,7    0.000014\n",
       "2,1     0.000014\n",
       "6,65    0.000014\n",
       "2,85    0.000014\n",
       "Name: proportion, Length: 107, dtype: float64"
      ]
     },
     "execution_count": 63,
     "metadata": {},
     "output_type": "execute_result"
    }
   ],
   "source": [
    "df['larrout'].value_counts(normalize =True)"
   ]
  },
  {
   "cell_type": "code",
   "execution_count": 64,
   "metadata": {},
   "outputs": [
    {
     "data": {
      "text/plain": [
       "surf\n",
       " 1    0.789867\n",
       " 2    0.196585\n",
       " 9    0.004177\n",
       "-1    0.002935\n",
       " 7    0.001722\n",
       " 3    0.001609\n",
       " 8    0.001185\n",
       " 5    0.000917\n",
       " 6    0.000692\n",
       " 4    0.000310\n",
       "Name: proportion, dtype: float64"
      ]
     },
     "execution_count": 64,
     "metadata": {},
     "output_type": "execute_result"
    }
   ],
   "source": [
    "df['surf'].value_counts(normalize =True)"
   ]
  },
  {
   "cell_type": "code",
   "execution_count": 65,
   "metadata": {},
   "outputs": [
    {
     "data": {
      "text/plain": [
       "infra\n",
       " 0    0.833841\n",
       " 5    0.066836\n",
       " 9    0.032134\n",
       " 2    0.014832\n",
       "-1    0.013026\n",
       " 6    0.010020\n",
       " 3    0.009780\n",
       " 1    0.008877\n",
       " 8    0.007084\n",
       " 4    0.002949\n",
       " 7    0.000621\n",
       "Name: proportion, dtype: float64"
      ]
     },
     "execution_count": 65,
     "metadata": {},
     "output_type": "execute_result"
    }
   ],
   "source": [
    "df['infra'].value_counts(normalize =True)"
   ]
  },
  {
   "cell_type": "code",
   "execution_count": 66,
   "metadata": {},
   "outputs": [
    {
     "data": {
      "text/plain": [
       "situ\n",
       " 1    0.836283\n",
       " 3    0.058651\n",
       " 8    0.037863\n",
       " 5    0.027293\n",
       " 4    0.020773\n",
       " 6    0.011784\n",
       " 2    0.004558\n",
       "-1    0.002794\n",
       "Name: proportion, dtype: float64"
      ]
     },
     "execution_count": 66,
     "metadata": {},
     "output_type": "execute_result"
    }
   ],
   "source": [
    "df['situ'].value_counts(normalize =True)"
   ]
  },
  {
   "cell_type": "code",
   "execution_count": 67,
   "metadata": {},
   "outputs": [
    {
     "data": {
      "text/plain": [
       "vma\n",
       " 50     0.453387\n",
       " 30     0.184505\n",
       " 80     0.117570\n",
       " 90     0.068233\n",
       "-1      0.064606\n",
       " 70     0.060076\n",
       " 110    0.028662\n",
       " 130    0.015368\n",
       " 20     0.003373\n",
       " 60     0.001708\n",
       " 25     0.000974\n",
       " 40     0.000917\n",
       " 45     0.000212\n",
       " 100    0.000169\n",
       " 10     0.000085\n",
       " 15     0.000056\n",
       " 75     0.000028\n",
       " 35     0.000028\n",
       " 31     0.000014\n",
       " 65     0.000014\n",
       " 23     0.000014\n",
       "Name: proportion, dtype: float64"
      ]
     },
     "execution_count": 67,
     "metadata": {},
     "output_type": "execute_result"
    }
   ],
   "source": [
    "df['vma'].value_counts(normalize =True)"
   ]
  },
  {
   "cell_type": "code",
   "execution_count": null,
   "metadata": {},
   "outputs": [],
   "source": [
    "Commentaires Fichier lieux<br/>\n",
    "70860 entrées, 17 colonnes, dont 11 types entiers et 7 types objets<br/>\n",
    "3 colonnes contiennent des valeurs nulles, la colonnes VOIE indique le numéro de la route, la colonne V2 indique la lettre indice alphanumérique de la voie, et la colonne lartpc(largeur du terre plein central)n'est pas renseignée. on pourra supprimer ces 3 colonnes<br/>\n",
    "catr : catégorie de route: les accidents ont lieux sur les voies communales (45% ) et les routes départementales (38%)\n",
    "On regroupe en 3 catégories, route departementale, voie communale et autres <br/>\n",
    "\n",
    "Voie :la colonnes VOIE indique le numéro de la route, trop de valeurs nulles  A SUPPRIMER<br/>\n",
    "\n",
    "V1 : indice numerique de la route (bis, ter..., A SUPPRIMER<br/>\n",
    "\n",
    "V2 : supprimer trop de velaurs nulles A SUPPRIMER<br/>\n",
    "\n",
    "circ : régime de circulation : 61 % des accidents ont lieux sur des routes bidrectionnelles, 20% sur des routes  à sens unique (7% de valeurs non renseignées)\n",
    "On regroupe en 3 catégories, route didirectionnelle, route  à sens unique et autres <br/>\n",
    "\n",
    "nbv : nombre total de voies de circulation: 60% 2 voies de circulation (5% non renseigné) A SUPPRIMER <br/>\n",
    "\n",
    "vosp : signale l'existence d'une voie réservée, indépendemment du fait que l'accident ait lieu ou non sur cette voie (80% sans objet) A SUPPRIMER<br/>\n",
    "\n",
    "prof : Profil en long décrit la déclivité de la route : 82 % profil plat( -1 % non renseigner)\n",
    "on regroupe en 2 catégories, plat et autres  A VALIDER <br/>\n",
    "\n",
    "pr : Numero de PR de rattachement (numero de la borne amont): pas d'intérêt sur les causes et non renseigné (40%): A SUPPRIMER<br/>\n",
    "\n",
    "pr1 : distance en m de la borne de rattachement:pas d'intérêt sur les causes et non renseigné (40%): A SUPPRIMER<br/>\n",
    "\n",
    "plan:82% en partie rectiligne( -1 % non renseigner) \n",
    "on regroupe en 2 catégories, droit et virage et autres  A VALIDER<br/>\n",
    "\n",
    "lartpc: non renseigner: A SUPPRIMER<br/>\n",
    "\n",
    "larrout : 75 % des données non renseignées A SUPPRIMER<br/>\n",
    "\n",
    "surf :  etat de surface: 80 % des cas  dus  à une surface normale ( -1 % non renseigner)<br/>\n",
    "on regroupe en 2 catégories, normale et autres  A VALIDER<br/>\n",
    "\n",
    "infra:  Aménagement-Infrastructure : 80% des cas pas d'ammenagement( 1,3 % non renseigner)\n",
    "on regroupe en 2 catégories, aucun et autres  A VALIDER<br/><br/>\n",
    "\n",
    "situ :  situation de l'accident: 80% sur chaussée ( -1 % non renseigner) A SUPPRIMER <br/>\n",
    "\n",
    "vma: vitesse maximale autorisée sur le lieu au moment de l'accident: dans 45% des cas  50 km/h et ( -1 % non renseigner)<br/> A SUPPRIMER"
   ]
  },
  {
   "cell_type": "code",
   "execution_count": 68,
   "metadata": {},
   "outputs": [],
   "source": [
    "df['route'] = df['catr']"
   ]
  },
  {
   "cell_type": "code",
   "execution_count": null,
   "metadata": {},
   "outputs": [
    {
     "data": {
      "text/plain": [
       "route\n",
       "communales        0.456732\n",
       "departementale    0.377251\n",
       "autre             0.166017\n",
       "Name: proportion, dtype: float64"
      ]
     },
     "execution_count": 71,
     "metadata": {},
     "output_type": "execute_result"
    }
   ],
   "source": [
    "for i,row in df.iterrows():\n",
    "    if row [\"catr\"] == 4:\n",
    "        df.at[i,\"route\"] = \"communale\"\n",
    "    elif row [\"catr\"] == 3:\n",
    "        df.at[i,\"route\"] = \"departementale\"\n",
    "    else:\n",
    "        df.at[i,\"route\"] = \"autre\"\n",
    "        \n",
    "df['route'].value_counts(normalize =True)"
   ]
  },
  {
   "cell_type": "code",
   "execution_count": 70,
   "metadata": {},
   "outputs": [],
   "source": [
    "df['circulation'] = df['circ']"
   ]
  },
  {
   "cell_type": "code",
   "execution_count": 73,
   "metadata": {},
   "outputs": [
    {
     "name": "stderr",
     "output_type": "stream",
     "text": [
      "/tmp/ipykernel_33975/3662090601.py:5: FutureWarning: Setting an item of incompatible dtype is deprecated and will raise an error in a future version of pandas. Value 'sens unique' has dtype incompatible with int64, please explicitly cast to a compatible dtype first.\n",
      "  df.at[i,\"circulation\"] = \"sens unique\"\n"
     ]
    },
    {
     "data": {
      "text/plain": [
       "circulation\n",
       "bidirectionnelle    0.613647\n",
       "sens unique         0.198095\n",
       "autre               0.188259\n",
       "Name: proportion, dtype: float64"
      ]
     },
     "execution_count": 73,
     "metadata": {},
     "output_type": "execute_result"
    }
   ],
   "source": [
    "for i,row in df.iterrows():\n",
    "    if row [\"circ\"] == 2:\n",
    "        df.at[i,\"circulation\"] = \"bidirectionnelle\"\n",
    "    elif row [\"circ\"] == 1:\n",
    "        df.at[i,\"circulation\"] = \"sens unique\"\n",
    "    else:\n",
    "        df.at[i,\"circulation\"] = \"autre\"\n",
    "        \n",
    "df['circulation'].value_counts(normalize =True)"
   ]
  },
  {
   "cell_type": "code",
   "execution_count": 74,
   "metadata": {},
   "outputs": [],
   "source": [
    "df['profil'] = df['prof']"
   ]
  },
  {
   "cell_type": "code",
   "execution_count": 75,
   "metadata": {},
   "outputs": [
    {
     "name": "stderr",
     "output_type": "stream",
     "text": [
      "/tmp/ipykernel_33975/2705739821.py:3: FutureWarning: Setting an item of incompatible dtype is deprecated and will raise an error in a future version of pandas. Value 'plat' has dtype incompatible with int64, please explicitly cast to a compatible dtype first.\n",
      "  df.at[i,'profil'] = \"plat\"\n"
     ]
    },
    {
     "data": {
      "text/plain": [
       "profil\n",
       "plat     0.824287\n",
       "autre    0.175713\n",
       "Name: proportion, dtype: float64"
      ]
     },
     "execution_count": 75,
     "metadata": {},
     "output_type": "execute_result"
    }
   ],
   "source": [
    "for i,row in df.iterrows():\n",
    "    if row [\"prof\"] == 1:\n",
    "        df.at[i,'profil'] = \"plat\"\n",
    "    else:\n",
    "        df.at[i,'profil'] = \"autre\"\n",
    "        \n",
    "df['profil'].value_counts(normalize =True)"
   ]
  },
  {
   "cell_type": "code",
   "execution_count": 76,
   "metadata": {},
   "outputs": [],
   "source": [
    "df['courbe'] = df['plan']"
   ]
  },
  {
   "cell_type": "code",
   "execution_count": 78,
   "metadata": {},
   "outputs": [
    {
     "name": "stderr",
     "output_type": "stream",
     "text": [
      "/tmp/ipykernel_33975/713385471.py:3: FutureWarning: Setting an item of incompatible dtype is deprecated and will raise an error in a future version of pandas. Value 'rectiligne' has dtype incompatible with int64, please explicitly cast to a compatible dtype first.\n",
      "  df.at[i,'courbe'] = \"rectiligne\"\n"
     ]
    },
    {
     "data": {
      "text/plain": [
       "courbe\n",
       "rectiligne    0.82464\n",
       "autre         0.17536\n",
       "Name: proportion, dtype: float64"
      ]
     },
     "execution_count": 78,
     "metadata": {},
     "output_type": "execute_result"
    }
   ],
   "source": [
    "for i,row in df.iterrows():\n",
    "    if row ['plan'] == 1:\n",
    "        df.at[i,'courbe'] = \"rectiligne\"\n",
    "    else:\n",
    "        df.at[i,'courbe'] = \"autre\"\n",
    "        \n",
    "df['courbe'].value_counts(normalize =True)"
   ]
  },
  {
   "cell_type": "code",
   "execution_count": 79,
   "metadata": {},
   "outputs": [],
   "source": [
    "df['surface'] = df['surf']"
   ]
  },
  {
   "cell_type": "code",
   "execution_count": 80,
   "metadata": {},
   "outputs": [
    {
     "name": "stderr",
     "output_type": "stream",
     "text": [
      "/tmp/ipykernel_33975/4236809315.py:5: FutureWarning: Setting an item of incompatible dtype is deprecated and will raise an error in a future version of pandas. Value 'humide' has dtype incompatible with int64, please explicitly cast to a compatible dtype first.\n",
      "  df.at[i,'surface'] = \"humide\"\n"
     ]
    },
    {
     "data": {
      "text/plain": [
       "surface\n",
       "normale    0.789867\n",
       "humide     0.210133\n",
       "Name: proportion, dtype: float64"
      ]
     },
     "execution_count": 80,
     "metadata": {},
     "output_type": "execute_result"
    }
   ],
   "source": [
    "for i,row in df.iterrows():\n",
    "    if row ['surf'] == 1:\n",
    "        df.at[i,'surface'] = \"normale\"\n",
    "    else:\n",
    "        df.at[i,'surface'] = \"humide\"\n",
    "        \n",
    "df['surface'].value_counts(normalize =True)"
   ]
  },
  {
   "cell_type": "code",
   "execution_count": null,
   "metadata": {},
   "outputs": [],
   "source": [
    "df['amenagement'] = df['infra']"
   ]
  },
  {
   "cell_type": "code",
   "execution_count": 81,
   "metadata": {},
   "outputs": [
    {
     "data": {
      "text/plain": [
       "amenagement\n",
       "présence    0.991123\n",
       "aucun       0.008877\n",
       "Name: proportion, dtype: float64"
      ]
     },
     "execution_count": 81,
     "metadata": {},
     "output_type": "execute_result"
    }
   ],
   "source": [
    "for i,row in df.iterrows():\n",
    "    if row ['infra'] == 1:\n",
    "        df.at[i,'amenagement'] = \"aucun\"\n",
    "    else:\n",
    "        df.at[i,'amenagement'] = \"présence\"\n",
    "        \n",
    "df['amenagement'].value_counts(normalize =True)"
   ]
  },
  {
   "cell_type": "code",
   "execution_count": null,
   "metadata": {},
   "outputs": [],
   "source": []
  }
 ],
 "metadata": {
  "kernelspec": {
   "display_name": "isavenv",
   "language": "python",
   "name": "python3"
  },
  "language_info": {
   "codemirror_mode": {
    "name": "ipython",
    "version": 3
   },
   "file_extension": ".py",
   "mimetype": "text/x-python",
   "name": "python",
   "nbconvert_exporter": "python",
   "pygments_lexer": "ipython3",
   "version": "3.12.3"
  }
 },
 "nbformat": 4,
 "nbformat_minor": 2
}
