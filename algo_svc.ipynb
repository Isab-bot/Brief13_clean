{
 "cells": [
  {
   "cell_type": "markdown",
   "metadata": {},
   "source": [
    "# SVC"
   ]
  },
  {
   "cell_type": "code",
   "execution_count": 23,
   "metadata": {},
   "outputs": [],
   "source": [
    "import pandas as pd\n",
    "import numpy as np \n",
    "import seaborn as sns\n",
    "import matplotlib.pyplot as plt\n",
    "\n",
    "from sklearn import svm\n",
    "from sklearn.model_selection import cross_val_score\n",
    "from sklearn.compose import ColumnTransformer\n",
    "from sklearn.preprocessing import OneHotEncoder\n",
    "from sklearn.model_selection import train_test_split\n",
    "from sklearn.metrics import classification_report, confusion_matrix, accuracy_score\n",
    "\n",
    "from imblearn.under_sampling import RandomUnderSampler\n",
    "from collections import Counter"
   ]
  },
  {
   "cell_type": "code",
   "execution_count": 2,
   "metadata": {},
   "outputs": [],
   "source": [
    "df = pd.read_csv('datas/df_ml.csv', delimiter=\";\")"
   ]
  },
  {
   "cell_type": "code",
   "execution_count": 3,
   "metadata": {},
   "outputs": [],
   "source": [
    "df = df[df['sexe'] >= 0]"
   ]
  },
  {
   "cell_type": "code",
   "execution_count": 4,
   "metadata": {},
   "outputs": [
    {
     "data": {
      "text/plain": [
       "(303392, 17)"
      ]
     },
     "execution_count": 4,
     "metadata": {},
     "output_type": "execute_result"
    }
   ],
   "source": [
    "df.shape"
   ]
  },
  {
   "cell_type": "code",
   "execution_count": 5,
   "metadata": {},
   "outputs": [
    {
     "data": {
      "text/html": [
       "<div>\n",
       "<style scoped>\n",
       "    .dataframe tbody tr th:only-of-type {\n",
       "        vertical-align: middle;\n",
       "    }\n",
       "\n",
       "    .dataframe tbody tr th {\n",
       "        vertical-align: top;\n",
       "    }\n",
       "\n",
       "    .dataframe thead th {\n",
       "        text-align: right;\n",
       "    }\n",
       "</style>\n",
       "<table border=\"1\" class=\"dataframe\">\n",
       "  <thead>\n",
       "    <tr style=\"text-align: right;\">\n",
       "      <th></th>\n",
       "      <th>luminosité</th>\n",
       "      <th>intersection</th>\n",
       "      <th>collision</th>\n",
       "      <th>agglomération</th>\n",
       "      <th>route</th>\n",
       "      <th>profil</th>\n",
       "      <th>courbe</th>\n",
       "      <th>surface</th>\n",
       "      <th>amenagement</th>\n",
       "      <th>categorie</th>\n",
       "      <th>choc1</th>\n",
       "      <th>manoeuvre</th>\n",
       "      <th>grave</th>\n",
       "      <th>sexe</th>\n",
       "      <th>âge</th>\n",
       "      <th>trajet</th>\n",
       "      <th>secu</th>\n",
       "    </tr>\n",
       "  </thead>\n",
       "  <tbody>\n",
       "    <tr>\n",
       "      <th>0</th>\n",
       "      <td>éclairé</td>\n",
       "      <td>intersection</td>\n",
       "      <td>sans vehicule</td>\n",
       "      <td>agglomération</td>\n",
       "      <td>communale</td>\n",
       "      <td>plat</td>\n",
       "      <td>rectiligne</td>\n",
       "      <td>humide</td>\n",
       "      <td>présence</td>\n",
       "      <td>2 roues moteur</td>\n",
       "      <td>arrière</td>\n",
       "      <td>droit</td>\n",
       "      <td>1</td>\n",
       "      <td>1</td>\n",
       "      <td>25-60 ans</td>\n",
       "      <td>non routinier</td>\n",
       "      <td>casque et autres équipements</td>\n",
       "    </tr>\n",
       "    <tr>\n",
       "      <th>1</th>\n",
       "      <td>éclairé</td>\n",
       "      <td>intersection</td>\n",
       "      <td>sans vehicule</td>\n",
       "      <td>agglomération</td>\n",
       "      <td>communale</td>\n",
       "      <td>plat</td>\n",
       "      <td>rectiligne</td>\n",
       "      <td>humide</td>\n",
       "      <td>présence</td>\n",
       "      <td>2 roues moteur</td>\n",
       "      <td>arrière</td>\n",
       "      <td>droit</td>\n",
       "      <td>1</td>\n",
       "      <td>1</td>\n",
       "      <td>25-60 ans</td>\n",
       "      <td>non routinier</td>\n",
       "      <td>casque et autres équipements</td>\n",
       "    </tr>\n",
       "    <tr>\n",
       "      <th>2</th>\n",
       "      <td>éclairé</td>\n",
       "      <td>hors intersection</td>\n",
       "      <td>autre</td>\n",
       "      <td>agglomération</td>\n",
       "      <td>departementale</td>\n",
       "      <td>plat</td>\n",
       "      <td>rectiligne</td>\n",
       "      <td>humide</td>\n",
       "      <td>présence</td>\n",
       "      <td>4 roues</td>\n",
       "      <td>avant</td>\n",
       "      <td>droit</td>\n",
       "      <td>0</td>\n",
       "      <td>2</td>\n",
       "      <td>25-60 ans</td>\n",
       "      <td>non routinier</td>\n",
       "      <td>ceinture</td>\n",
       "    </tr>\n",
       "    <tr>\n",
       "      <th>3</th>\n",
       "      <td>éclairé</td>\n",
       "      <td>hors intersection</td>\n",
       "      <td>autre</td>\n",
       "      <td>agglomération</td>\n",
       "      <td>departementale</td>\n",
       "      <td>plat</td>\n",
       "      <td>rectiligne</td>\n",
       "      <td>humide</td>\n",
       "      <td>présence</td>\n",
       "      <td>4 roues</td>\n",
       "      <td>avant</td>\n",
       "      <td>droit</td>\n",
       "      <td>2</td>\n",
       "      <td>1</td>\n",
       "      <td>25-60 ans</td>\n",
       "      <td>non routinier</td>\n",
       "      <td>rien</td>\n",
       "    </tr>\n",
       "    <tr>\n",
       "      <th>4</th>\n",
       "      <td>éclairé</td>\n",
       "      <td>intersection</td>\n",
       "      <td>avec vehicule</td>\n",
       "      <td>agglomération</td>\n",
       "      <td>departementale</td>\n",
       "      <td>plat</td>\n",
       "      <td>rectiligne</td>\n",
       "      <td>humide</td>\n",
       "      <td>présence</td>\n",
       "      <td>2 roues moteur</td>\n",
       "      <td>avant</td>\n",
       "      <td>tourne</td>\n",
       "      <td>2</td>\n",
       "      <td>1</td>\n",
       "      <td>25-60 ans</td>\n",
       "      <td>non routinier</td>\n",
       "      <td>casque et autres équipements</td>\n",
       "    </tr>\n",
       "  </tbody>\n",
       "</table>\n",
       "</div>"
      ],
      "text/plain": [
       "  luminosité       intersection      collision  agglomération           route  \\\n",
       "0    éclairé       intersection  sans vehicule  agglomération       communale   \n",
       "1    éclairé       intersection  sans vehicule  agglomération       communale   \n",
       "2    éclairé  hors intersection          autre  agglomération  departementale   \n",
       "3    éclairé  hors intersection          autre  agglomération  departementale   \n",
       "4    éclairé       intersection  avec vehicule  agglomération  departementale   \n",
       "\n",
       "  profil      courbe surface amenagement       categorie    choc1 manoeuvre  \\\n",
       "0   plat  rectiligne  humide    présence  2 roues moteur  arrière     droit   \n",
       "1   plat  rectiligne  humide    présence  2 roues moteur  arrière     droit   \n",
       "2   plat  rectiligne  humide    présence         4 roues    avant     droit   \n",
       "3   plat  rectiligne  humide    présence         4 roues    avant     droit   \n",
       "4   plat  rectiligne  humide    présence  2 roues moteur    avant    tourne   \n",
       "\n",
       "   grave  sexe        âge         trajet                          secu  \n",
       "0      1     1  25-60 ans  non routinier  casque et autres équipements  \n",
       "1      1     1  25-60 ans  non routinier  casque et autres équipements  \n",
       "2      0     2  25-60 ans  non routinier                      ceinture  \n",
       "3      2     1  25-60 ans  non routinier                          rien  \n",
       "4      2     1  25-60 ans  non routinier  casque et autres équipements  "
      ]
     },
     "execution_count": 5,
     "metadata": {},
     "output_type": "execute_result"
    }
   ],
   "source": [
    "df.head()"
   ]
  },
  {
   "cell_type": "code",
   "execution_count": 6,
   "metadata": {},
   "outputs": [],
   "source": [
    "def categorize_grav(valeur):\n",
    "    if valeur in [2, 3]:\n",
    "        return \"grave\"\n",
    "    elif valeur in [0, 1]:\n",
    "        return \"leger\"\n",
    "    \n",
    "df[\"blessure\"] = df['grave'].apply(categorize_grav)"
   ]
  },
  {
   "cell_type": "code",
   "execution_count": 7,
   "metadata": {},
   "outputs": [],
   "source": [
    "df= df.drop(columns=['grave'])"
   ]
  },
  {
   "cell_type": "code",
   "execution_count": 8,
   "metadata": {},
   "outputs": [],
   "source": [
    "df = df.rename(columns={'blessure':'grave'})"
   ]
  },
  {
   "cell_type": "code",
   "execution_count": 9,
   "metadata": {},
   "outputs": [
    {
     "data": {
      "text/html": [
       "<div>\n",
       "<style scoped>\n",
       "    .dataframe tbody tr th:only-of-type {\n",
       "        vertical-align: middle;\n",
       "    }\n",
       "\n",
       "    .dataframe tbody tr th {\n",
       "        vertical-align: top;\n",
       "    }\n",
       "\n",
       "    .dataframe thead th {\n",
       "        text-align: right;\n",
       "    }\n",
       "</style>\n",
       "<table border=\"1\" class=\"dataframe\">\n",
       "  <thead>\n",
       "    <tr style=\"text-align: right;\">\n",
       "      <th></th>\n",
       "      <th>luminosité</th>\n",
       "      <th>intersection</th>\n",
       "      <th>collision</th>\n",
       "      <th>agglomération</th>\n",
       "      <th>route</th>\n",
       "      <th>profil</th>\n",
       "      <th>courbe</th>\n",
       "      <th>surface</th>\n",
       "      <th>amenagement</th>\n",
       "      <th>categorie</th>\n",
       "      <th>choc1</th>\n",
       "      <th>manoeuvre</th>\n",
       "      <th>sexe</th>\n",
       "      <th>âge</th>\n",
       "      <th>trajet</th>\n",
       "      <th>secu</th>\n",
       "      <th>grave</th>\n",
       "    </tr>\n",
       "  </thead>\n",
       "  <tbody>\n",
       "    <tr>\n",
       "      <th>0</th>\n",
       "      <td>éclairé</td>\n",
       "      <td>intersection</td>\n",
       "      <td>sans vehicule</td>\n",
       "      <td>agglomération</td>\n",
       "      <td>communale</td>\n",
       "      <td>plat</td>\n",
       "      <td>rectiligne</td>\n",
       "      <td>humide</td>\n",
       "      <td>présence</td>\n",
       "      <td>2 roues moteur</td>\n",
       "      <td>arrière</td>\n",
       "      <td>droit</td>\n",
       "      <td>1</td>\n",
       "      <td>25-60 ans</td>\n",
       "      <td>non routinier</td>\n",
       "      <td>casque et autres équipements</td>\n",
       "      <td>leger</td>\n",
       "    </tr>\n",
       "    <tr>\n",
       "      <th>1</th>\n",
       "      <td>éclairé</td>\n",
       "      <td>intersection</td>\n",
       "      <td>sans vehicule</td>\n",
       "      <td>agglomération</td>\n",
       "      <td>communale</td>\n",
       "      <td>plat</td>\n",
       "      <td>rectiligne</td>\n",
       "      <td>humide</td>\n",
       "      <td>présence</td>\n",
       "      <td>2 roues moteur</td>\n",
       "      <td>arrière</td>\n",
       "      <td>droit</td>\n",
       "      <td>1</td>\n",
       "      <td>25-60 ans</td>\n",
       "      <td>non routinier</td>\n",
       "      <td>casque et autres équipements</td>\n",
       "      <td>leger</td>\n",
       "    </tr>\n",
       "    <tr>\n",
       "      <th>2</th>\n",
       "      <td>éclairé</td>\n",
       "      <td>hors intersection</td>\n",
       "      <td>autre</td>\n",
       "      <td>agglomération</td>\n",
       "      <td>departementale</td>\n",
       "      <td>plat</td>\n",
       "      <td>rectiligne</td>\n",
       "      <td>humide</td>\n",
       "      <td>présence</td>\n",
       "      <td>4 roues</td>\n",
       "      <td>avant</td>\n",
       "      <td>droit</td>\n",
       "      <td>2</td>\n",
       "      <td>25-60 ans</td>\n",
       "      <td>non routinier</td>\n",
       "      <td>ceinture</td>\n",
       "      <td>leger</td>\n",
       "    </tr>\n",
       "    <tr>\n",
       "      <th>3</th>\n",
       "      <td>éclairé</td>\n",
       "      <td>hors intersection</td>\n",
       "      <td>autre</td>\n",
       "      <td>agglomération</td>\n",
       "      <td>departementale</td>\n",
       "      <td>plat</td>\n",
       "      <td>rectiligne</td>\n",
       "      <td>humide</td>\n",
       "      <td>présence</td>\n",
       "      <td>4 roues</td>\n",
       "      <td>avant</td>\n",
       "      <td>droit</td>\n",
       "      <td>1</td>\n",
       "      <td>25-60 ans</td>\n",
       "      <td>non routinier</td>\n",
       "      <td>rien</td>\n",
       "      <td>grave</td>\n",
       "    </tr>\n",
       "    <tr>\n",
       "      <th>4</th>\n",
       "      <td>éclairé</td>\n",
       "      <td>intersection</td>\n",
       "      <td>avec vehicule</td>\n",
       "      <td>agglomération</td>\n",
       "      <td>departementale</td>\n",
       "      <td>plat</td>\n",
       "      <td>rectiligne</td>\n",
       "      <td>humide</td>\n",
       "      <td>présence</td>\n",
       "      <td>2 roues moteur</td>\n",
       "      <td>avant</td>\n",
       "      <td>tourne</td>\n",
       "      <td>1</td>\n",
       "      <td>25-60 ans</td>\n",
       "      <td>non routinier</td>\n",
       "      <td>casque et autres équipements</td>\n",
       "      <td>grave</td>\n",
       "    </tr>\n",
       "  </tbody>\n",
       "</table>\n",
       "</div>"
      ],
      "text/plain": [
       "  luminosité       intersection      collision  agglomération           route  \\\n",
       "0    éclairé       intersection  sans vehicule  agglomération       communale   \n",
       "1    éclairé       intersection  sans vehicule  agglomération       communale   \n",
       "2    éclairé  hors intersection          autre  agglomération  departementale   \n",
       "3    éclairé  hors intersection          autre  agglomération  departementale   \n",
       "4    éclairé       intersection  avec vehicule  agglomération  departementale   \n",
       "\n",
       "  profil      courbe surface amenagement       categorie    choc1 manoeuvre  \\\n",
       "0   plat  rectiligne  humide    présence  2 roues moteur  arrière     droit   \n",
       "1   plat  rectiligne  humide    présence  2 roues moteur  arrière     droit   \n",
       "2   plat  rectiligne  humide    présence         4 roues    avant     droit   \n",
       "3   plat  rectiligne  humide    présence         4 roues    avant     droit   \n",
       "4   plat  rectiligne  humide    présence  2 roues moteur    avant    tourne   \n",
       "\n",
       "   sexe        âge         trajet                          secu  grave  \n",
       "0     1  25-60 ans  non routinier  casque et autres équipements  leger  \n",
       "1     1  25-60 ans  non routinier  casque et autres équipements  leger  \n",
       "2     2  25-60 ans  non routinier                      ceinture  leger  \n",
       "3     1  25-60 ans  non routinier                          rien  grave  \n",
       "4     1  25-60 ans  non routinier  casque et autres équipements  grave  "
      ]
     },
     "execution_count": 9,
     "metadata": {},
     "output_type": "execute_result"
    }
   ],
   "source": [
    "df.head()"
   ]
  },
  {
   "cell_type": "code",
   "execution_count": 10,
   "metadata": {},
   "outputs": [],
   "source": [
    "X = df.drop(['grave'], axis=1)\n",
    "y = df['grave']"
   ]
  },
  {
   "cell_type": "code",
   "execution_count": 11,
   "metadata": {},
   "outputs": [
    {
     "data": {
      "text/plain": [
       "Index(['luminosité', 'intersection', 'collision', 'agglomération', 'route',\n",
       "       'profil', 'courbe', 'surface', 'amenagement', 'categorie', 'choc1',\n",
       "       'manoeuvre', 'sexe', 'âge', 'trajet', 'secu'],\n",
       "      dtype='object')"
      ]
     },
     "execution_count": 11,
     "metadata": {},
     "output_type": "execute_result"
    }
   ],
   "source": [
    "X.columns"
   ]
  },
  {
   "cell_type": "code",
   "execution_count": 12,
   "metadata": {},
   "outputs": [
    {
     "name": "stdout",
     "output_type": "stream",
     "text": [
      "Distribution initiale des classes: Counter({'leger': 257154, 'grave': 46238})\n"
     ]
    }
   ],
   "source": [
    "print('Distribution initiale des classes:', Counter(y))"
   ]
  },
  {
   "cell_type": "code",
   "execution_count": 13,
   "metadata": {},
   "outputs": [
    {
     "name": "stdout",
     "output_type": "stream",
     "text": [
      "Distribution après undersampling: Counter({'grave': 46238, 'leger': 46238})\n"
     ]
    }
   ],
   "source": [
    "rus = RandomUnderSampler(random_state=42)\n",
    "X_resampled, y_resampled = rus.fit_resample(X, y)\n",
    "print('Distribution après undersampling:', Counter(y_resampled))"
   ]
  },
  {
   "cell_type": "code",
   "execution_count": 14,
   "metadata": {},
   "outputs": [
    {
     "name": "stdout",
     "output_type": "stream",
     "text": [
      "[[1. 0. 0. ... 0. 1. 1.]\n",
      " [1. 0. 1. ... 0. 0. 1.]\n",
      " [1. 0. 1. ... 0. 0. 1.]\n",
      " ...\n",
      " [1. 0. 1. ... 0. 1. 1.]\n",
      " [1. 0. 0. ... 0. 1. 1.]\n",
      " [0. 0. 0. ... 0. 0. 1.]]\n"
     ]
    }
   ],
   "source": [
    "col_a_encoder = [0, 1, 2, 3, 4, 5, 6, 7, 8, 9, 10, 11, 13, 14, 15]\n",
    "ct =ColumnTransformer(transformers=[('encoder', OneHotEncoder(drop = 'first'), col_a_encoder)], remainder='passthrough')\n",
    "X_resampled = np.array(ct.fit_transform(X_resampled))\n",
    "print(X_resampled)"
   ]
  },
  {
   "cell_type": "code",
   "execution_count": 15,
   "metadata": {},
   "outputs": [],
   "source": [
    "encoded_columns = ct.named_transformers_['encoder'].get_feature_names_out([X.columns[i] for i in col_a_encoder])\n",
    "remaining_columns = [X.columns[i] for i in range(len(X.columns)) if i not in col_a_encoder]\n",
    "new_columns = np.concatenate([encoded_columns, remaining_columns])"
   ]
  },
  {
   "cell_type": "code",
   "execution_count": 16,
   "metadata": {},
   "outputs": [
    {
     "name": "stdout",
     "output_type": "stream",
     "text": [
      "['luminosité_éclairé' 'luminosité_nan' 'intersection_intersection'\n",
      " 'intersection_nan' 'collision_avec vehicule' 'collision_sans vehicule'\n",
      " 'agglomération_hors agglomération' 'route_communale'\n",
      " 'route_departementale' 'profil_plat' 'courbe_rectiligne'\n",
      " 'surface_normale' 'amenagement_présence' 'categorie_2 roues moteur'\n",
      " 'categorie_4 roues' 'categorie_autre' 'choc1_aucun' 'choc1_avant'\n",
      " 'choc1_côté' 'manoeuvre_droit' 'manoeuvre_immobile' 'manoeuvre_tourne'\n",
      " 'âge_25-60 ans' 'âge_60 ans et plus' 'âge_Moins de 18 ans'\n",
      " 'trajet_routinier' 'secu_ceinture' 'secu_rien' 'sexe']\n"
     ]
    }
   ],
   "source": [
    "print(new_columns)"
   ]
  },
  {
   "cell_type": "code",
   "execution_count": 17,
   "metadata": {},
   "outputs": [
    {
     "data": {
      "text/plain": [
       "(92476, 29)"
      ]
     },
     "execution_count": 17,
     "metadata": {},
     "output_type": "execute_result"
    }
   ],
   "source": [
    "X_resampled.shape"
   ]
  },
  {
   "cell_type": "code",
   "execution_count": 18,
   "metadata": {},
   "outputs": [],
   "source": [
    "X_train, X_test, y_train, y_test =  train_test_split(X_resampled, y_resampled, test_size=0.2, random_state=1, stratify=y_resampled)"
   ]
  },
  {
   "cell_type": "code",
   "execution_count": 19,
   "metadata": {},
   "outputs": [
    {
     "name": "stdout",
     "output_type": "stream",
     "text": [
      "(73980, 29)\n",
      "(18496, 29)\n"
     ]
    }
   ],
   "source": [
    "print(X_train.shape)\n",
    "print(X_test.shape)"
   ]
  },
  {
   "cell_type": "code",
   "execution_count": null,
   "metadata": {},
   "outputs": [],
   "source": [
    "#Je teste les différents kernels pour trouver le meilleur\n",
    "\n",
    "# kernels = ['linear', 'poly', 'rbf', 'sigmoid']\n",
    "# best_score = 0\n",
    "# best_kernel = None\n",
    "# for kernel in kernels:\n",
    "#     model = svm.SVC(kernel='poly', degree=3)\n",
    "#     scores = cross_val_score(model, X_train, y_train, cv=5)\n",
    "#     mean_score = scores.mean()\n",
    "#     print(f\"Kernel : {kernel}, Score: {mean_score}\")\n",
    "\n",
    "#     if mean_score > best_score:\n",
    "#         best_score = mean_score\n",
    "#         best_kernel=kernel\n",
    "\n",
    "# print(f\"Best_kernel: {best_kernel}, Best_score: {best_score}\")"
   ]
  },
  {
   "cell_type": "code",
   "execution_count": null,
   "metadata": {},
   "outputs": [],
   "source": [
    "# model = svm.SVC(kernel=\"poly\", degree=3)\n",
    "# model.fit(X_train, y_train)"
   ]
  },
  {
   "cell_type": "code",
   "execution_count": 20,
   "metadata": {},
   "outputs": [
    {
     "data": {
      "text/html": [
       "<style>#sk-container-id-1 {\n",
       "  /* Definition of color scheme common for light and dark mode */\n",
       "  --sklearn-color-text: black;\n",
       "  --sklearn-color-line: gray;\n",
       "  /* Definition of color scheme for unfitted estimators */\n",
       "  --sklearn-color-unfitted-level-0: #fff5e6;\n",
       "  --sklearn-color-unfitted-level-1: #f6e4d2;\n",
       "  --sklearn-color-unfitted-level-2: #ffe0b3;\n",
       "  --sklearn-color-unfitted-level-3: chocolate;\n",
       "  /* Definition of color scheme for fitted estimators */\n",
       "  --sklearn-color-fitted-level-0: #f0f8ff;\n",
       "  --sklearn-color-fitted-level-1: #d4ebff;\n",
       "  --sklearn-color-fitted-level-2: #b3dbfd;\n",
       "  --sklearn-color-fitted-level-3: cornflowerblue;\n",
       "\n",
       "  /* Specific color for light theme */\n",
       "  --sklearn-color-text-on-default-background: var(--sg-text-color, var(--theme-code-foreground, var(--jp-content-font-color1, black)));\n",
       "  --sklearn-color-background: var(--sg-background-color, var(--theme-background, var(--jp-layout-color0, white)));\n",
       "  --sklearn-color-border-box: var(--sg-text-color, var(--theme-code-foreground, var(--jp-content-font-color1, black)));\n",
       "  --sklearn-color-icon: #696969;\n",
       "\n",
       "  @media (prefers-color-scheme: dark) {\n",
       "    /* Redefinition of color scheme for dark theme */\n",
       "    --sklearn-color-text-on-default-background: var(--sg-text-color, var(--theme-code-foreground, var(--jp-content-font-color1, white)));\n",
       "    --sklearn-color-background: var(--sg-background-color, var(--theme-background, var(--jp-layout-color0, #111)));\n",
       "    --sklearn-color-border-box: var(--sg-text-color, var(--theme-code-foreground, var(--jp-content-font-color1, white)));\n",
       "    --sklearn-color-icon: #878787;\n",
       "  }\n",
       "}\n",
       "\n",
       "#sk-container-id-1 {\n",
       "  color: var(--sklearn-color-text);\n",
       "}\n",
       "\n",
       "#sk-container-id-1 pre {\n",
       "  padding: 0;\n",
       "}\n",
       "\n",
       "#sk-container-id-1 input.sk-hidden--visually {\n",
       "  border: 0;\n",
       "  clip: rect(1px 1px 1px 1px);\n",
       "  clip: rect(1px, 1px, 1px, 1px);\n",
       "  height: 1px;\n",
       "  margin: -1px;\n",
       "  overflow: hidden;\n",
       "  padding: 0;\n",
       "  position: absolute;\n",
       "  width: 1px;\n",
       "}\n",
       "\n",
       "#sk-container-id-1 div.sk-dashed-wrapped {\n",
       "  border: 1px dashed var(--sklearn-color-line);\n",
       "  margin: 0 0.4em 0.5em 0.4em;\n",
       "  box-sizing: border-box;\n",
       "  padding-bottom: 0.4em;\n",
       "  background-color: var(--sklearn-color-background);\n",
       "}\n",
       "\n",
       "#sk-container-id-1 div.sk-container {\n",
       "  /* jupyter's `normalize.less` sets `[hidden] { display: none; }`\n",
       "     but bootstrap.min.css set `[hidden] { display: none !important; }`\n",
       "     so we also need the `!important` here to be able to override the\n",
       "     default hidden behavior on the sphinx rendered scikit-learn.org.\n",
       "     See: https://github.com/scikit-learn/scikit-learn/issues/21755 */\n",
       "  display: inline-block !important;\n",
       "  position: relative;\n",
       "}\n",
       "\n",
       "#sk-container-id-1 div.sk-text-repr-fallback {\n",
       "  display: none;\n",
       "}\n",
       "\n",
       "div.sk-parallel-item,\n",
       "div.sk-serial,\n",
       "div.sk-item {\n",
       "  /* draw centered vertical line to link estimators */\n",
       "  background-image: linear-gradient(var(--sklearn-color-text-on-default-background), var(--sklearn-color-text-on-default-background));\n",
       "  background-size: 2px 100%;\n",
       "  background-repeat: no-repeat;\n",
       "  background-position: center center;\n",
       "}\n",
       "\n",
       "/* Parallel-specific style estimator block */\n",
       "\n",
       "#sk-container-id-1 div.sk-parallel-item::after {\n",
       "  content: \"\";\n",
       "  width: 100%;\n",
       "  border-bottom: 2px solid var(--sklearn-color-text-on-default-background);\n",
       "  flex-grow: 1;\n",
       "}\n",
       "\n",
       "#sk-container-id-1 div.sk-parallel {\n",
       "  display: flex;\n",
       "  align-items: stretch;\n",
       "  justify-content: center;\n",
       "  background-color: var(--sklearn-color-background);\n",
       "  position: relative;\n",
       "}\n",
       "\n",
       "#sk-container-id-1 div.sk-parallel-item {\n",
       "  display: flex;\n",
       "  flex-direction: column;\n",
       "}\n",
       "\n",
       "#sk-container-id-1 div.sk-parallel-item:first-child::after {\n",
       "  align-self: flex-end;\n",
       "  width: 50%;\n",
       "}\n",
       "\n",
       "#sk-container-id-1 div.sk-parallel-item:last-child::after {\n",
       "  align-self: flex-start;\n",
       "  width: 50%;\n",
       "}\n",
       "\n",
       "#sk-container-id-1 div.sk-parallel-item:only-child::after {\n",
       "  width: 0;\n",
       "}\n",
       "\n",
       "/* Serial-specific style estimator block */\n",
       "\n",
       "#sk-container-id-1 div.sk-serial {\n",
       "  display: flex;\n",
       "  flex-direction: column;\n",
       "  align-items: center;\n",
       "  background-color: var(--sklearn-color-background);\n",
       "  padding-right: 1em;\n",
       "  padding-left: 1em;\n",
       "}\n",
       "\n",
       "\n",
       "/* Toggleable style: style used for estimator/Pipeline/ColumnTransformer box that is\n",
       "clickable and can be expanded/collapsed.\n",
       "- Pipeline and ColumnTransformer use this feature and define the default style\n",
       "- Estimators will overwrite some part of the style using the `sk-estimator` class\n",
       "*/\n",
       "\n",
       "/* Pipeline and ColumnTransformer style (default) */\n",
       "\n",
       "#sk-container-id-1 div.sk-toggleable {\n",
       "  /* Default theme specific background. It is overwritten whether we have a\n",
       "  specific estimator or a Pipeline/ColumnTransformer */\n",
       "  background-color: var(--sklearn-color-background);\n",
       "}\n",
       "\n",
       "/* Toggleable label */\n",
       "#sk-container-id-1 label.sk-toggleable__label {\n",
       "  cursor: pointer;\n",
       "  display: block;\n",
       "  width: 100%;\n",
       "  margin-bottom: 0;\n",
       "  padding: 0.5em;\n",
       "  box-sizing: border-box;\n",
       "  text-align: center;\n",
       "}\n",
       "\n",
       "#sk-container-id-1 label.sk-toggleable__label-arrow:before {\n",
       "  /* Arrow on the left of the label */\n",
       "  content: \"▸\";\n",
       "  float: left;\n",
       "  margin-right: 0.25em;\n",
       "  color: var(--sklearn-color-icon);\n",
       "}\n",
       "\n",
       "#sk-container-id-1 label.sk-toggleable__label-arrow:hover:before {\n",
       "  color: var(--sklearn-color-text);\n",
       "}\n",
       "\n",
       "/* Toggleable content - dropdown */\n",
       "\n",
       "#sk-container-id-1 div.sk-toggleable__content {\n",
       "  max-height: 0;\n",
       "  max-width: 0;\n",
       "  overflow: hidden;\n",
       "  text-align: left;\n",
       "  /* unfitted */\n",
       "  background-color: var(--sklearn-color-unfitted-level-0);\n",
       "}\n",
       "\n",
       "#sk-container-id-1 div.sk-toggleable__content.fitted {\n",
       "  /* fitted */\n",
       "  background-color: var(--sklearn-color-fitted-level-0);\n",
       "}\n",
       "\n",
       "#sk-container-id-1 div.sk-toggleable__content pre {\n",
       "  margin: 0.2em;\n",
       "  border-radius: 0.25em;\n",
       "  color: var(--sklearn-color-text);\n",
       "  /* unfitted */\n",
       "  background-color: var(--sklearn-color-unfitted-level-0);\n",
       "}\n",
       "\n",
       "#sk-container-id-1 div.sk-toggleable__content.fitted pre {\n",
       "  /* unfitted */\n",
       "  background-color: var(--sklearn-color-fitted-level-0);\n",
       "}\n",
       "\n",
       "#sk-container-id-1 input.sk-toggleable__control:checked~div.sk-toggleable__content {\n",
       "  /* Expand drop-down */\n",
       "  max-height: 200px;\n",
       "  max-width: 100%;\n",
       "  overflow: auto;\n",
       "}\n",
       "\n",
       "#sk-container-id-1 input.sk-toggleable__control:checked~label.sk-toggleable__label-arrow:before {\n",
       "  content: \"▾\";\n",
       "}\n",
       "\n",
       "/* Pipeline/ColumnTransformer-specific style */\n",
       "\n",
       "#sk-container-id-1 div.sk-label input.sk-toggleable__control:checked~label.sk-toggleable__label {\n",
       "  color: var(--sklearn-color-text);\n",
       "  background-color: var(--sklearn-color-unfitted-level-2);\n",
       "}\n",
       "\n",
       "#sk-container-id-1 div.sk-label.fitted input.sk-toggleable__control:checked~label.sk-toggleable__label {\n",
       "  background-color: var(--sklearn-color-fitted-level-2);\n",
       "}\n",
       "\n",
       "/* Estimator-specific style */\n",
       "\n",
       "/* Colorize estimator box */\n",
       "#sk-container-id-1 div.sk-estimator input.sk-toggleable__control:checked~label.sk-toggleable__label {\n",
       "  /* unfitted */\n",
       "  background-color: var(--sklearn-color-unfitted-level-2);\n",
       "}\n",
       "\n",
       "#sk-container-id-1 div.sk-estimator.fitted input.sk-toggleable__control:checked~label.sk-toggleable__label {\n",
       "  /* fitted */\n",
       "  background-color: var(--sklearn-color-fitted-level-2);\n",
       "}\n",
       "\n",
       "#sk-container-id-1 div.sk-label label.sk-toggleable__label,\n",
       "#sk-container-id-1 div.sk-label label {\n",
       "  /* The background is the default theme color */\n",
       "  color: var(--sklearn-color-text-on-default-background);\n",
       "}\n",
       "\n",
       "/* On hover, darken the color of the background */\n",
       "#sk-container-id-1 div.sk-label:hover label.sk-toggleable__label {\n",
       "  color: var(--sklearn-color-text);\n",
       "  background-color: var(--sklearn-color-unfitted-level-2);\n",
       "}\n",
       "\n",
       "/* Label box, darken color on hover, fitted */\n",
       "#sk-container-id-1 div.sk-label.fitted:hover label.sk-toggleable__label.fitted {\n",
       "  color: var(--sklearn-color-text);\n",
       "  background-color: var(--sklearn-color-fitted-level-2);\n",
       "}\n",
       "\n",
       "/* Estimator label */\n",
       "\n",
       "#sk-container-id-1 div.sk-label label {\n",
       "  font-family: monospace;\n",
       "  font-weight: bold;\n",
       "  display: inline-block;\n",
       "  line-height: 1.2em;\n",
       "}\n",
       "\n",
       "#sk-container-id-1 div.sk-label-container {\n",
       "  text-align: center;\n",
       "}\n",
       "\n",
       "/* Estimator-specific */\n",
       "#sk-container-id-1 div.sk-estimator {\n",
       "  font-family: monospace;\n",
       "  border: 1px dotted var(--sklearn-color-border-box);\n",
       "  border-radius: 0.25em;\n",
       "  box-sizing: border-box;\n",
       "  margin-bottom: 0.5em;\n",
       "  /* unfitted */\n",
       "  background-color: var(--sklearn-color-unfitted-level-0);\n",
       "}\n",
       "\n",
       "#sk-container-id-1 div.sk-estimator.fitted {\n",
       "  /* fitted */\n",
       "  background-color: var(--sklearn-color-fitted-level-0);\n",
       "}\n",
       "\n",
       "/* on hover */\n",
       "#sk-container-id-1 div.sk-estimator:hover {\n",
       "  /* unfitted */\n",
       "  background-color: var(--sklearn-color-unfitted-level-2);\n",
       "}\n",
       "\n",
       "#sk-container-id-1 div.sk-estimator.fitted:hover {\n",
       "  /* fitted */\n",
       "  background-color: var(--sklearn-color-fitted-level-2);\n",
       "}\n",
       "\n",
       "/* Specification for estimator info (e.g. \"i\" and \"?\") */\n",
       "\n",
       "/* Common style for \"i\" and \"?\" */\n",
       "\n",
       ".sk-estimator-doc-link,\n",
       "a:link.sk-estimator-doc-link,\n",
       "a:visited.sk-estimator-doc-link {\n",
       "  float: right;\n",
       "  font-size: smaller;\n",
       "  line-height: 1em;\n",
       "  font-family: monospace;\n",
       "  background-color: var(--sklearn-color-background);\n",
       "  border-radius: 1em;\n",
       "  height: 1em;\n",
       "  width: 1em;\n",
       "  text-decoration: none !important;\n",
       "  margin-left: 1ex;\n",
       "  /* unfitted */\n",
       "  border: var(--sklearn-color-unfitted-level-1) 1pt solid;\n",
       "  color: var(--sklearn-color-unfitted-level-1);\n",
       "}\n",
       "\n",
       ".sk-estimator-doc-link.fitted,\n",
       "a:link.sk-estimator-doc-link.fitted,\n",
       "a:visited.sk-estimator-doc-link.fitted {\n",
       "  /* fitted */\n",
       "  border: var(--sklearn-color-fitted-level-1) 1pt solid;\n",
       "  color: var(--sklearn-color-fitted-level-1);\n",
       "}\n",
       "\n",
       "/* On hover */\n",
       "div.sk-estimator:hover .sk-estimator-doc-link:hover,\n",
       ".sk-estimator-doc-link:hover,\n",
       "div.sk-label-container:hover .sk-estimator-doc-link:hover,\n",
       ".sk-estimator-doc-link:hover {\n",
       "  /* unfitted */\n",
       "  background-color: var(--sklearn-color-unfitted-level-3);\n",
       "  color: var(--sklearn-color-background);\n",
       "  text-decoration: none;\n",
       "}\n",
       "\n",
       "div.sk-estimator.fitted:hover .sk-estimator-doc-link.fitted:hover,\n",
       ".sk-estimator-doc-link.fitted:hover,\n",
       "div.sk-label-container:hover .sk-estimator-doc-link.fitted:hover,\n",
       ".sk-estimator-doc-link.fitted:hover {\n",
       "  /* fitted */\n",
       "  background-color: var(--sklearn-color-fitted-level-3);\n",
       "  color: var(--sklearn-color-background);\n",
       "  text-decoration: none;\n",
       "}\n",
       "\n",
       "/* Span, style for the box shown on hovering the info icon */\n",
       ".sk-estimator-doc-link span {\n",
       "  display: none;\n",
       "  z-index: 9999;\n",
       "  position: relative;\n",
       "  font-weight: normal;\n",
       "  right: .2ex;\n",
       "  padding: .5ex;\n",
       "  margin: .5ex;\n",
       "  width: min-content;\n",
       "  min-width: 20ex;\n",
       "  max-width: 50ex;\n",
       "  color: var(--sklearn-color-text);\n",
       "  box-shadow: 2pt 2pt 4pt #999;\n",
       "  /* unfitted */\n",
       "  background: var(--sklearn-color-unfitted-level-0);\n",
       "  border: .5pt solid var(--sklearn-color-unfitted-level-3);\n",
       "}\n",
       "\n",
       ".sk-estimator-doc-link.fitted span {\n",
       "  /* fitted */\n",
       "  background: var(--sklearn-color-fitted-level-0);\n",
       "  border: var(--sklearn-color-fitted-level-3);\n",
       "}\n",
       "\n",
       ".sk-estimator-doc-link:hover span {\n",
       "  display: block;\n",
       "}\n",
       "\n",
       "/* \"?\"-specific style due to the `<a>` HTML tag */\n",
       "\n",
       "#sk-container-id-1 a.estimator_doc_link {\n",
       "  float: right;\n",
       "  font-size: 1rem;\n",
       "  line-height: 1em;\n",
       "  font-family: monospace;\n",
       "  background-color: var(--sklearn-color-background);\n",
       "  border-radius: 1rem;\n",
       "  height: 1rem;\n",
       "  width: 1rem;\n",
       "  text-decoration: none;\n",
       "  /* unfitted */\n",
       "  color: var(--sklearn-color-unfitted-level-1);\n",
       "  border: var(--sklearn-color-unfitted-level-1) 1pt solid;\n",
       "}\n",
       "\n",
       "#sk-container-id-1 a.estimator_doc_link.fitted {\n",
       "  /* fitted */\n",
       "  border: var(--sklearn-color-fitted-level-1) 1pt solid;\n",
       "  color: var(--sklearn-color-fitted-level-1);\n",
       "}\n",
       "\n",
       "/* On hover */\n",
       "#sk-container-id-1 a.estimator_doc_link:hover {\n",
       "  /* unfitted */\n",
       "  background-color: var(--sklearn-color-unfitted-level-3);\n",
       "  color: var(--sklearn-color-background);\n",
       "  text-decoration: none;\n",
       "}\n",
       "\n",
       "#sk-container-id-1 a.estimator_doc_link.fitted:hover {\n",
       "  /* fitted */\n",
       "  background-color: var(--sklearn-color-fitted-level-3);\n",
       "}\n",
       "</style><div id=\"sk-container-id-1\" class=\"sk-top-container\"><div class=\"sk-text-repr-fallback\"><pre>SVC(kernel=&#x27;linear&#x27;)</pre><b>In a Jupyter environment, please rerun this cell to show the HTML representation or trust the notebook. <br />On GitHub, the HTML representation is unable to render, please try loading this page with nbviewer.org.</b></div><div class=\"sk-container\" hidden><div class=\"sk-item\"><div class=\"sk-estimator fitted sk-toggleable\"><input class=\"sk-toggleable__control sk-hidden--visually\" id=\"sk-estimator-id-1\" type=\"checkbox\" checked><label for=\"sk-estimator-id-1\" class=\"sk-toggleable__label fitted sk-toggleable__label-arrow fitted\">&nbsp;&nbsp;SVC<a class=\"sk-estimator-doc-link fitted\" rel=\"noreferrer\" target=\"_blank\" href=\"https://scikit-learn.org/1.4/modules/generated/sklearn.svm.SVC.html\">?<span>Documentation for SVC</span></a><span class=\"sk-estimator-doc-link fitted\">i<span>Fitted</span></span></label><div class=\"sk-toggleable__content fitted\"><pre>SVC(kernel=&#x27;linear&#x27;)</pre></div> </div></div></div></div>"
      ],
      "text/plain": [
       "SVC(kernel='linear')"
      ]
     },
     "execution_count": 20,
     "metadata": {},
     "output_type": "execute_result"
    }
   ],
   "source": [
    "model = svm.SVC(kernel=\"linear\")\n",
    "model.fit(X_train, y_train)"
   ]
  },
  {
   "cell_type": "code",
   "execution_count": 21,
   "metadata": {},
   "outputs": [
    {
     "name": "stdout",
     "output_type": "stream",
     "text": [
      "                     Feature  Coefficient\n",
      "0         luminosité_éclairé     0.332480\n",
      "1             luminosité_nan     0.000000\n",
      "2  intersection_intersection     0.127588\n",
      "3           intersection_nan     0.991006\n",
      "4    collision_avec vehicule     0.553138\n"
     ]
    }
   ],
   "source": [
    "coeff = model.coef_\n",
    "\n",
    "df_imp = pd.DataFrame({\n",
    "    'Feature': new_columns,\n",
    "    'Coefficient': coeff[0]\n",
    "})\n",
    "print(df_imp.head())"
   ]
  },
  {
   "cell_type": "code",
   "execution_count": 22,
   "metadata": {},
   "outputs": [
    {
     "name": "stdout",
     "output_type": "stream",
     "text": [
      "                             Feature  Coefficient\n",
      "26                     secu_ceinture     2.304118\n",
      "27                         secu_rien     1.021634\n",
      "3                   intersection_nan     0.991006\n",
      "4            collision_avec vehicule     0.553138\n",
      "24               âge_Moins de 18 ans     0.440287\n",
      "0                 luminosité_éclairé     0.332480\n",
      "20                manoeuvre_immobile     0.289589\n",
      "10                 courbe_rectiligne     0.275515\n",
      "21                  manoeuvre_tourne     0.238707\n",
      "22                     âge_25-60 ans     0.182301\n",
      "9                        profil_plat     0.128411\n",
      "2          intersection_intersection     0.127588\n",
      "19                   manoeuvre_droit     0.068909\n",
      "25                  trajet_routinier     0.036693\n",
      "1                     luminosité_nan     0.000000\n",
      "11                   surface_normale    -0.047262\n",
      "28                              sexe    -0.086311\n",
      "13          categorie_2 roues moteur    -0.123395\n",
      "7                    route_communale    -0.142882\n",
      "5            collision_sans vehicule    -0.271997\n",
      "18                        choc1_côté    -0.351659\n",
      "16                       choc1_aucun    -0.352862\n",
      "23                âge_60 ans et plus    -0.494118\n",
      "17                       choc1_avant    -0.555315\n",
      "14                 categorie_4 roues    -0.573136\n",
      "12              amenagement_présence    -0.615247\n",
      "8               route_departementale    -0.648758\n",
      "15                   categorie_autre    -0.660030\n",
      "6   agglomération_hors agglomération    -0.771769\n"
     ]
    }
   ],
   "source": [
    "df_imp = df_imp.sort_values(by='Coefficient', ascending=False)\n",
    "print(df_imp[['Feature', 'Coefficient']])"
   ]
  },
  {
   "cell_type": "code",
   "execution_count": 24,
   "metadata": {},
   "outputs": [
    {
     "data": {
      "image/png": "[encoded data removed]",
      "text/plain": [
       "<Figure size 1000x800 with 1 Axes>"
      ]
     },
     "metadata": {},
     "output_type": "display_data"
    }
   ],
   "source": [
    "plt.figure(figsize=(10,8))\n",
    "plt.barh(df_imp['Feature'], df_imp['Coefficient'], color=['green' if coef > 0 else 'red' for coef in df_imp['Coefficient']])\n",
    "plt.xlabel('Coefficient')\n",
    "plt.ylabel('Feature')\n",
    "plt.title('Importance et Direction des Coefficients des Features')\n",
    "plt.gca().invert_yaxis()\n",
    "plt.show()"
   ]
  },
  {
   "cell_type": "code",
   "execution_count": 19,
   "metadata": {},
   "outputs": [
    {
     "name": "stdout",
     "output_type": "stream",
     "text": [
      "0.7219398788927336\n"
     ]
    }
   ],
   "source": [
    "y_pred = model.predict(X_test)\n",
    "score = accuracy_score(y_pred, y_test)\n",
    "print(score)"
   ]
  },
  {
   "cell_type": "code",
   "execution_count": 20,
   "metadata": {},
   "outputs": [
    {
     "name": "stdout",
     "output_type": "stream",
     "text": [
      "[[6845 2403]\n",
      " [2740 6508]]\n"
     ]
    }
   ],
   "source": [
    "#matrice de confusion\n",
    "cm = confusion_matrix(y_test, y_pred)\n",
    "print (cm)"
   ]
  },
  {
   "cell_type": "code",
   "execution_count": 21,
   "metadata": {},
   "outputs": [
    {
     "data": {
      "text/plain": [
       "<Axes: >"
      ]
     },
     "execution_count": 21,
     "metadata": {},
     "output_type": "execute_result"
    },
    {
     "data": {
      "image/png": "[encoded data removed]",
      "text/plain": [
       "<Figure size 640x480 with 2 Axes>"
      ]
     },
     "metadata": {},
     "output_type": "display_data"
    }
   ],
   "source": [
    "cm_heatmap = pd.DataFrame(cm)\n",
    "sns.heatmap(cm_heatmap, annot=True, cmap=\"coolwarm\", fmt=\"d\", linewidths=4)"
   ]
  },
  {
   "cell_type": "code",
   "execution_count": 22,
   "metadata": {},
   "outputs": [
    {
     "name": "stdout",
     "output_type": "stream",
     "text": [
      "              precision    recall  f1-score   support\n",
      "\n",
      "       grave       0.71      0.74      0.73      9248\n",
      "       leger       0.73      0.70      0.72      9248\n",
      "\n",
      "    accuracy                           0.72     18496\n",
      "   macro avg       0.72      0.72      0.72     18496\n",
      "weighted avg       0.72      0.72      0.72     18496\n",
      "\n"
     ]
    }
   ],
   "source": [
    "print(classification_report(y_test, y_pred))"
   ]
  },
  {
   "cell_type": "markdown",
   "metadata": {},
   "source": []
  }
 ],
 "metadata": {
  "kernelspec": {
   "display_name": "my_env",
   "language": "python",
   "name": "python3"
  },
  "language_info": {
   "codemirror_mode": {
    "name": "ipython",
    "version": 3
   },
   "file_extension": ".py",
   "mimetype": "text/x-python",
   "name": "python",
   "nbconvert_exporter": "python",
   "pygments_lexer": "ipython3",
   "version": "3.10.14"
  }
 },
 "nbformat": 4,
 "nbformat_minor": 2
}
