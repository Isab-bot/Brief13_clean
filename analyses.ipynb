{
 "cells": [
  {
   "cell_type": "code",
   "execution_count": 1,
   "metadata": {},
   "outputs": [
    {
     "ename": "SyntaxError",
     "evalue": "invalid syntax (656561196.py, line 1)",
     "output_type": "error",
     "traceback": [
      "\u001b[0;36m  Cell \u001b[0;32mIn[1], line 1\u001b[0;36m\u001b[0m\n\u001b[0;31m    Analyses des causes des accidents\u001b[0m\n\u001b[0m             ^\u001b[0m\n\u001b[0;31mSyntaxError\u001b[0m\u001b[0;31m:\u001b[0m invalid syntax\n"
     ]
    }
   ],
   "source": [
    "Analyses des causes des accidents"
   ]
  },
  {
   "cell_type": "code",
   "execution_count": 5,
   "metadata": {},
   "outputs": [],
   "source": [
    "import pandas as pd\n",
    "import numpy as np"
   ]
  },
  {
   "cell_type": "code",
   "execution_count": 6,
   "metadata": {},
   "outputs": [
    {
     "name": "stderr",
     "output_type": "stream",
     "text": [
      "/tmp/ipykernel_1564/2696134291.py:2: DtypeWarning: Columns (12) have mixed types. Specify dtype option on import or set low_memory=False.\n",
      "  df_lieux = pd.read_csv(\"Data/lieux-2023.csv\", encoding = 'utf-8', delimiter = \";\")\n"
     ]
    }
   ],
   "source": [
    "df_caract = pd.read_csv(\"Data/caract-2023.csv\", encoding = 'utf-8', delimiter = \";\")\n",
    "df_lieux = pd.read_csv(\"Data/lieux-2023.csv\", encoding = 'utf-8', delimiter = \";\")\n",
    "df_usagers = pd.read_csv(\"Data/usagers-2023.csv\", encoding = 'utf-8', delimiter = \";\")\n",
    "df_vehicules = pd.read_csv(\"Data/vehicules-2023.csv\", encoding = 'utf-8', delimiter = \";\")"
   ]
  },
  {
   "cell_type": "code",
   "execution_count": null,
   "metadata": {},
   "outputs": [],
   "source": [
    "Etude du fichier lieux"
   ]
  },
  {
   "cell_type": "code",
   "execution_count": 7,
   "metadata": {},
   "outputs": [
    {
     "name": "stdout",
     "output_type": "stream",
     "text": [
      "<class 'pandas.core.frame.DataFrame'>\n",
      "RangeIndex: 70860 entries, 0 to 70859\n",
      "Data columns (total 18 columns):\n",
      " #   Column   Non-Null Count  Dtype \n",
      "---  ------   --------------  ----- \n",
      " 0   Num_Acc  70860 non-null  int64 \n",
      " 1   catr     70860 non-null  int64 \n",
      " 2   voie     58113 non-null  object\n",
      " 3   v1       70860 non-null  int64 \n",
      " 4   v2       5884 non-null   object\n",
      " 5   circ     70860 non-null  int64 \n",
      " 6   nbv      70860 non-null  object\n",
      " 7   vosp     70860 non-null  int64 \n",
      " 8   prof     70860 non-null  int64 \n",
      " 9   pr       70860 non-null  object\n",
      " 10  pr1      70860 non-null  object\n",
      " 11  plan     70860 non-null  int64 \n",
      " 12  lartpc   31 non-null     object\n",
      " 13  larrout  70860 non-null  object\n",
      " 14  surf     70860 non-null  int64 \n",
      " 15  infra    70860 non-null  int64 \n",
      " 16  situ     70860 non-null  int64 \n",
      " 17  vma      70860 non-null  int64 \n",
      "dtypes: int64(11), object(7)\n",
      "memory usage: 9.7+ MB\n"
     ]
    }
   ],
   "source": [
    "df_lieux.info()"
   ]
  },
  {
   "cell_type": "code",
   "execution_count": 8,
   "metadata": {},
   "outputs": [
    {
     "data": {
      "text/plain": [
       "Num_Acc        0\n",
       "catr           0\n",
       "voie       12747\n",
       "v1             0\n",
       "v2         64976\n",
       "circ           0\n",
       "nbv            0\n",
       "vosp           0\n",
       "prof           0\n",
       "pr             0\n",
       "pr1            0\n",
       "plan           0\n",
       "lartpc     70829\n",
       "larrout        0\n",
       "surf           0\n",
       "infra          0\n",
       "situ           0\n",
       "vma            0\n",
       "dtype: int64"
      ]
     },
     "execution_count": 8,
     "metadata": {},
     "output_type": "execute_result"
    }
   ],
   "source": [
    "df_lieux.isnull().sum(axis =0)"
   ]
  },
  {
   "cell_type": "code",
   "execution_count": 9,
   "metadata": {},
   "outputs": [
    {
     "data": {
      "text/html": [
       "<div>\n",
       "<style scoped>\n",
       "    .dataframe tbody tr th:only-of-type {\n",
       "        vertical-align: middle;\n",
       "    }\n",
       "\n",
       "    .dataframe tbody tr th {\n",
       "        vertical-align: top;\n",
       "    }\n",
       "\n",
       "    .dataframe thead th {\n",
       "        text-align: right;\n",
       "    }\n",
       "</style>\n",
       "<table border=\"1\" class=\"dataframe\">\n",
       "  <thead>\n",
       "    <tr style=\"text-align: right;\">\n",
       "      <th></th>\n",
       "      <th>Num_Acc</th>\n",
       "      <th>catr</th>\n",
       "      <th>v1</th>\n",
       "      <th>circ</th>\n",
       "      <th>vosp</th>\n",
       "      <th>prof</th>\n",
       "      <th>plan</th>\n",
       "      <th>surf</th>\n",
       "      <th>infra</th>\n",
       "      <th>situ</th>\n",
       "      <th>vma</th>\n",
       "    </tr>\n",
       "  </thead>\n",
       "  <tbody>\n",
       "    <tr>\n",
       "      <th>count</th>\n",
       "      <td>7.086000e+04</td>\n",
       "      <td>70860.000000</td>\n",
       "      <td>70860.000000</td>\n",
       "      <td>70860.000000</td>\n",
       "      <td>70860.000000</td>\n",
       "      <td>70860.000000</td>\n",
       "      <td>70860.00000</td>\n",
       "      <td>70860.000000</td>\n",
       "      <td>70860.000000</td>\n",
       "      <td>70860.000000</td>\n",
       "      <td>70860.000000</td>\n",
       "    </tr>\n",
       "    <tr>\n",
       "      <th>mean</th>\n",
       "      <td>2.023000e+11</td>\n",
       "      <td>3.397403</td>\n",
       "      <td>-0.228860</td>\n",
       "      <td>1.712673</td>\n",
       "      <td>0.183164</td>\n",
       "      <td>1.206336</td>\n",
       "      <td>1.26733</td>\n",
       "      <td>1.254036</td>\n",
       "      <td>0.811177</td>\n",
       "      <td>1.611727</td>\n",
       "      <td>53.306393</td>\n",
       "    </tr>\n",
       "    <tr>\n",
       "      <th>std</th>\n",
       "      <td>1.581802e+04</td>\n",
       "      <td>1.113553</td>\n",
       "      <td>0.431536</td>\n",
       "      <td>0.942601</td>\n",
       "      <td>0.744139</td>\n",
       "      <td>0.534770</td>\n",
       "      <td>0.65518</td>\n",
       "      <td>0.756575</td>\n",
       "      <td>2.162585</td>\n",
       "      <td>1.627796</td>\n",
       "      <td>26.001154</td>\n",
       "    </tr>\n",
       "    <tr>\n",
       "      <th>min</th>\n",
       "      <td>2.023000e+11</td>\n",
       "      <td>1.000000</td>\n",
       "      <td>-1.000000</td>\n",
       "      <td>-1.000000</td>\n",
       "      <td>-1.000000</td>\n",
       "      <td>-1.000000</td>\n",
       "      <td>-1.00000</td>\n",
       "      <td>-1.000000</td>\n",
       "      <td>-1.000000</td>\n",
       "      <td>-1.000000</td>\n",
       "      <td>-1.000000</td>\n",
       "    </tr>\n",
       "    <tr>\n",
       "      <th>25%</th>\n",
       "      <td>2.023000e+11</td>\n",
       "      <td>3.000000</td>\n",
       "      <td>0.000000</td>\n",
       "      <td>1.000000</td>\n",
       "      <td>0.000000</td>\n",
       "      <td>1.000000</td>\n",
       "      <td>1.00000</td>\n",
       "      <td>1.000000</td>\n",
       "      <td>0.000000</td>\n",
       "      <td>1.000000</td>\n",
       "      <td>30.000000</td>\n",
       "    </tr>\n",
       "    <tr>\n",
       "      <th>50%</th>\n",
       "      <td>2.023000e+11</td>\n",
       "      <td>3.000000</td>\n",
       "      <td>0.000000</td>\n",
       "      <td>2.000000</td>\n",
       "      <td>0.000000</td>\n",
       "      <td>1.000000</td>\n",
       "      <td>1.00000</td>\n",
       "      <td>1.000000</td>\n",
       "      <td>0.000000</td>\n",
       "      <td>1.000000</td>\n",
       "      <td>50.000000</td>\n",
       "    </tr>\n",
       "    <tr>\n",
       "      <th>75%</th>\n",
       "      <td>2.023000e+11</td>\n",
       "      <td>4.000000</td>\n",
       "      <td>0.000000</td>\n",
       "      <td>2.000000</td>\n",
       "      <td>0.000000</td>\n",
       "      <td>1.000000</td>\n",
       "      <td>1.00000</td>\n",
       "      <td>1.000000</td>\n",
       "      <td>0.000000</td>\n",
       "      <td>1.000000</td>\n",
       "      <td>70.000000</td>\n",
       "    </tr>\n",
       "    <tr>\n",
       "      <th>max</th>\n",
       "      <td>2.023001e+11</td>\n",
       "      <td>9.000000</td>\n",
       "      <td>3.000000</td>\n",
       "      <td>4.000000</td>\n",
       "      <td>3.000000</td>\n",
       "      <td>4.000000</td>\n",
       "      <td>4.00000</td>\n",
       "      <td>9.000000</td>\n",
       "      <td>9.000000</td>\n",
       "      <td>8.000000</td>\n",
       "      <td>130.000000</td>\n",
       "    </tr>\n",
       "  </tbody>\n",
       "</table>\n",
       "</div>"
      ],
      "text/plain": [
       "            Num_Acc          catr            v1          circ          vosp  \\\n",
       "count  7.086000e+04  70860.000000  70860.000000  70860.000000  70860.000000   \n",
       "mean   2.023000e+11      3.397403     -0.228860      1.712673      0.183164   \n",
       "std    1.581802e+04      1.113553      0.431536      0.942601      0.744139   \n",
       "min    2.023000e+11      1.000000     -1.000000     -1.000000     -1.000000   \n",
       "25%    2.023000e+11      3.000000      0.000000      1.000000      0.000000   \n",
       "50%    2.023000e+11      3.000000      0.000000      2.000000      0.000000   \n",
       "75%    2.023000e+11      4.000000      0.000000      2.000000      0.000000   \n",
       "max    2.023001e+11      9.000000      3.000000      4.000000      3.000000   \n",
       "\n",
       "               prof         plan          surf         infra          situ  \\\n",
       "count  70860.000000  70860.00000  70860.000000  70860.000000  70860.000000   \n",
       "mean       1.206336      1.26733      1.254036      0.811177      1.611727   \n",
       "std        0.534770      0.65518      0.756575      2.162585      1.627796   \n",
       "min       -1.000000     -1.00000     -1.000000     -1.000000     -1.000000   \n",
       "25%        1.000000      1.00000      1.000000      0.000000      1.000000   \n",
       "50%        1.000000      1.00000      1.000000      0.000000      1.000000   \n",
       "75%        1.000000      1.00000      1.000000      0.000000      1.000000   \n",
       "max        4.000000      4.00000      9.000000      9.000000      8.000000   \n",
       "\n",
       "                vma  \n",
       "count  70860.000000  \n",
       "mean      53.306393  \n",
       "std       26.001154  \n",
       "min       -1.000000  \n",
       "25%       30.000000  \n",
       "50%       50.000000  \n",
       "75%       70.000000  \n",
       "max      130.000000  "
      ]
     },
     "execution_count": 9,
     "metadata": {},
     "output_type": "execute_result"
    }
   ],
   "source": [
    "df_lieux.describe()"
   ]
  },
  {
   "cell_type": "code",
   "execution_count": 10,
   "metadata": {},
   "outputs": [
    {
     "data": {
      "text/plain": [
       "catr\n",
       "4    0.456732\n",
       "3    0.377251\n",
       "1    0.073130\n",
       "2    0.056661\n",
       "7    0.026136\n",
       "6    0.005828\n",
       "9    0.003260\n",
       "5    0.001002\n",
       "Name: proportion, dtype: float64"
      ]
     },
     "execution_count": 10,
     "metadata": {},
     "output_type": "execute_result"
    }
   ],
   "source": [
    "df_lieux['catr'].value_counts(normalize =True)"
   ]
  },
  {
   "cell_type": "code",
   "execution_count": 11,
   "metadata": {},
   "outputs": [
    {
     "data": {
      "text/plain": [
       "circ\n",
       " 2    0.613647\n",
       " 1    0.198095\n",
       " 3    0.111459\n",
       "-1    0.070858\n",
       " 4    0.005941\n",
       "Name: proportion, dtype: float64"
      ]
     },
     "execution_count": 11,
     "metadata": {},
     "output_type": "execute_result"
    }
   ],
   "source": [
    "df_lieux['circ'].value_counts(normalize =True)"
   ]
  },
  {
   "cell_type": "code",
   "execution_count": 12,
   "metadata": {},
   "outputs": [
    {
     "name": "stdout",
     "output_type": "stream",
     "text": [
      "15\n"
     ]
    }
   ],
   "source": [
    "print(len(df_lieux['nbv'].unique()))"
   ]
  },
  {
   "cell_type": "code",
   "execution_count": 13,
   "metadata": {},
   "outputs": [
    {
     "data": {
      "text/plain": [
       "nbv\n",
       "2               0.600903\n",
       "1               0.118445\n",
       "4               0.085972\n",
       "3               0.072043\n",
       " -1             0.058609\n",
       "0               0.029354\n",
       "6               0.016892\n",
       "5               0.010246\n",
       "8               0.004121\n",
       "7               0.001327\n",
       "#VALEURMULTI    0.000762\n",
       "10              0.000677\n",
       "9               0.000325\n",
       "12              0.000226\n",
       "11              0.000099\n",
       "Name: proportion, dtype: float64"
      ]
     },
     "execution_count": 13,
     "metadata": {},
     "output_type": "execute_result"
    }
   ],
   "source": [
    "df_lieux['nbv'].value_counts(normalize =True)"
   ]
  },
  {
   "cell_type": "code",
   "execution_count": 14,
   "metadata": {},
   "outputs": [
    {
     "data": {
      "text/plain": [
       "vosp\n",
       " 0    0.815072\n",
       "-1    0.055800\n",
       " 1    0.055715\n",
       " 2    0.036988\n",
       " 3    0.036424\n",
       "Name: proportion, dtype: float64"
      ]
     },
     "execution_count": 14,
     "metadata": {},
     "output_type": "execute_result"
    }
   ],
   "source": [
    "df_lieux['vosp'].value_counts(normalize =True)"
   ]
  },
  {
   "cell_type": "code",
   "execution_count": 15,
   "metadata": {},
   "outputs": [
    {
     "data": {
      "text/plain": [
       "prof\n",
       " 1    0.824287\n",
       " 2    0.145795\n",
       " 3    0.014324\n",
       " 4    0.012616\n",
       "-1    0.002978\n",
       "Name: proportion, dtype: float64"
      ]
     },
     "execution_count": 15,
     "metadata": {},
     "output_type": "execute_result"
    }
   ],
   "source": [
    "df_lieux['prof'].value_counts(normalize =True)"
   ]
  },
  {
   "cell_type": "code",
   "execution_count": 16,
   "metadata": {},
   "outputs": [
    {
     "data": {
      "text/plain": [
       "pr\n",
       " -1      0.420491\n",
       "0        0.202272\n",
       "1        0.041575\n",
       "2        0.020519\n",
       "3        0.017866\n",
       "           ...   \n",
       "443      0.000014\n",
       "510      0.000014\n",
       "390      0.000014\n",
       "1 630    0.000014\n",
       "368      0.000014\n",
       "Name: proportion, Length: 446, dtype: float64"
      ]
     },
     "execution_count": 16,
     "metadata": {},
     "output_type": "execute_result"
    }
   ],
   "source": [
    "df_lieux['pr'].value_counts(normalize =True)"
   ]
  },
  {
   "cell_type": "code",
   "execution_count": 17,
   "metadata": {},
   "outputs": [
    {
     "data": {
      "text/plain": [
       "pr1\n",
       " -1      0.423144\n",
       "0        0.208524\n",
       "1        0.031471\n",
       "500      0.026447\n",
       "200      0.014776\n",
       "           ...   \n",
       "1 023    0.000014\n",
       "1 139    0.000014\n",
       "752      0.000014\n",
       "1 236    0.000014\n",
       "562      0.000014\n",
       "Name: proportion, Length: 1363, dtype: float64"
      ]
     },
     "execution_count": 17,
     "metadata": {},
     "output_type": "execute_result"
    }
   ],
   "source": [
    "df_lieux['pr1'].value_counts(normalize =True)"
   ]
  },
  {
   "cell_type": "code",
   "execution_count": 18,
   "metadata": {},
   "outputs": [
    {
     "data": {
      "text/plain": [
       "plan\n",
       " 1    0.824640\n",
       " 2    0.084970\n",
       " 3    0.077237\n",
       " 4    0.010838\n",
       "-1    0.002314\n",
       "Name: proportion, dtype: float64"
      ]
     },
     "execution_count": 18,
     "metadata": {},
     "output_type": "execute_result"
    }
   ],
   "source": [
    "df_lieux['plan'].value_counts(normalize =True)"
   ]
  },
  {
   "cell_type": "code",
   "execution_count": 19,
   "metadata": {},
   "outputs": [
    {
     "data": {
      "text/plain": [
       "larrout\n",
       " -1     0.742083\n",
       "7       0.062221\n",
       "5,5     0.045809\n",
       "4       0.030003\n",
       "5       0.028422\n",
       "          ...   \n",
       "47      0.000014\n",
       "12,7    0.000014\n",
       "2,1     0.000014\n",
       "6,65    0.000014\n",
       "2,85    0.000014\n",
       "Name: proportion, Length: 107, dtype: float64"
      ]
     },
     "execution_count": 19,
     "metadata": {},
     "output_type": "execute_result"
    }
   ],
   "source": [
    "df_lieux['larrout'].value_counts(normalize =True)"
   ]
  },
  {
   "cell_type": "code",
   "execution_count": 20,
   "metadata": {},
   "outputs": [
    {
     "data": {
      "text/plain": [
       "surf\n",
       " 1    0.789867\n",
       " 2    0.196585\n",
       " 9    0.004177\n",
       "-1    0.002935\n",
       " 7    0.001722\n",
       " 3    0.001609\n",
       " 8    0.001185\n",
       " 5    0.000917\n",
       " 6    0.000692\n",
       " 4    0.000310\n",
       "Name: proportion, dtype: float64"
      ]
     },
     "execution_count": 20,
     "metadata": {},
     "output_type": "execute_result"
    }
   ],
   "source": [
    "df_lieux['surf'].value_counts(normalize =True)"
   ]
  },
  {
   "cell_type": "code",
   "execution_count": 21,
   "metadata": {},
   "outputs": [
    {
     "data": {
      "text/plain": [
       "infra\n",
       " 0    0.833841\n",
       " 5    0.066836\n",
       " 9    0.032134\n",
       " 2    0.014832\n",
       "-1    0.013026\n",
       " 6    0.010020\n",
       " 3    0.009780\n",
       " 1    0.008877\n",
       " 8    0.007084\n",
       " 4    0.002949\n",
       " 7    0.000621\n",
       "Name: proportion, dtype: float64"
      ]
     },
     "execution_count": 21,
     "metadata": {},
     "output_type": "execute_result"
    }
   ],
   "source": [
    "df_lieux['infra'].value_counts(normalize =True)"
   ]
  },
  {
   "cell_type": "code",
   "execution_count": 22,
   "metadata": {},
   "outputs": [
    {
     "data": {
      "text/plain": [
       "situ\n",
       " 1    0.836283\n",
       " 3    0.058651\n",
       " 8    0.037863\n",
       " 5    0.027293\n",
       " 4    0.020773\n",
       " 6    0.011784\n",
       " 2    0.004558\n",
       "-1    0.002794\n",
       "Name: proportion, dtype: float64"
      ]
     },
     "execution_count": 22,
     "metadata": {},
     "output_type": "execute_result"
    }
   ],
   "source": [
    "df_lieux['situ'].value_counts(normalize =True)"
   ]
  },
  {
   "cell_type": "code",
   "execution_count": 23,
   "metadata": {},
   "outputs": [
    {
     "data": {
      "text/plain": [
       "vma\n",
       " 50     0.453387\n",
       " 30     0.184505\n",
       " 80     0.117570\n",
       " 90     0.068233\n",
       "-1      0.064606\n",
       " 70     0.060076\n",
       " 110    0.028662\n",
       " 130    0.015368\n",
       " 20     0.003373\n",
       " 60     0.001708\n",
       " 25     0.000974\n",
       " 40     0.000917\n",
       " 45     0.000212\n",
       " 100    0.000169\n",
       " 10     0.000085\n",
       " 15     0.000056\n",
       " 75     0.000028\n",
       " 35     0.000028\n",
       " 31     0.000014\n",
       " 65     0.000014\n",
       " 23     0.000014\n",
       "Name: proportion, dtype: float64"
      ]
     },
     "execution_count": 23,
     "metadata": {},
     "output_type": "execute_result"
    }
   ],
   "source": [
    "df_lieux['vma'].value_counts(normalize =True)"
   ]
  },
  {
   "cell_type": "markdown",
   "metadata": {},
   "source": [
    "<!-- # Commentaires fichier lieux\n",
    "# 70860 entrées, 17 colonnes, dont 11 types entiers et 7 types objets\n",
    "# 3 colonnes contiennent des valeurs nulles, la colonnes VOIE indique le numéro de la route, la colonne V2 indique la lettre indice alphanumérique de la voie, et la colonne lartpc(largeur du terre plein central)n'est pas renseignée. on pourra supprimer ces 3 colonnes\n",
    "# catr : catégorie de route: les accidents ont lieux sur les voies communales (45% ) et les routes départementales (38%)\n",
    "# Voie :la colonnes VOIE indique le numéro de la route, trop de valeurs nulles  A SUPPRIMER\n",
    "# V1 : indice numerique de la route (bis, ter..., A SUPPRIMER\n",
    "# V2 : supprimer trop de velaurs nulles A SUPPRIMER\n",
    "# circ : régime de circulation : 61 % des accidents ont lieux sur des routes bidrectionnelles, 20% sur des routes  à sens unique (7% de valeurs non renseignées)\n",
    "# nbv : nombre total de voies de circulation: 60% 2 voies de circulation (5% non renseigné)\n",
    "# vosp : signale l'existence d'une voie réservée, indépendemment du fait que l'accident ait lieu ou non sur cette voie (80% sans objet) A SUPPRIMER\n",
    "# prof : Profil en long décrit la déclivité de la route : 82 % profil plat( -1 % non renseigner)\n",
    "# pr : Numero de PR de rattachement (numero de la borne amont): pas d'intérêt sur les causes et non renseigné (40%): A SUPPRIMER\n",
    "# pr1 : distance en m de la borne de rattachement:pas d'intérêt sur les causes et non renseigné (40%): A SUPPRIMER\n",
    "# plan:82% en partie rectiligne( -1 % non renseigner)\n",
    "# lartpc: non renseigner: A SUPPRIMER\n",
    "# larrout : 75 % des données non renseignées A SUPPRIMER\n",
    "# surf :  etat de surface: 80 % des cas  dus  à une surface normale ( -1 % non renseigner)\n",
    "# infra:  Aménagement-Infrastructure : 80% des cas pas d'ammenagement( 1,3 % non renseigner)\n",
    "# situ :  situation de l'accident: 80% sur chaussée ( -1 % non renseigner)\n",
    "# vma: vitesse maximale autorisée sur le lieu au moment de l'accident: dans 45% des cas  50 km/h et ( -1 % non renseigner) -->\n"
   ]
  },
  {
   "cell_type": "markdown",
   "metadata": {},
   "source": [
    "Commentaires Fichier lieux<br/>\n",
    "70860 entrées, 17 colonnes, dont 11 types entiers et 7 types objets<br/>\n",
    "3 colonnes contiennent des valeurs nulles, la colonnes VOIE indique le numéro de la route, la colonne V2 indique la lettre indice alphanumérique de la voie, et la colonne lartpc(largeur du terre plein central)n'est pas renseignée. on pourra supprimer ces 3 colonnes<br/>\n",
    "catr : catégorie de route: les accidents ont lieux sur les voies communales (45% ) et les routes départementales (38%)<br/>\n",
    "Voie :la colonnes VOIE indique le numéro de la route, trop de valeurs nulles  A SUPPRIMER<br/>\n",
    "V1 : indice numerique de la route (bis, ter..., A SUPPRIMER<br/>\n",
    "V2 : supprimer trop de velaurs nulles A SUPPRIMER<br/>\n",
    "circ : régime de circulation : 61 % des accidents ont lieux sur des routes bidrectionnelles, 20% sur des routes  à sens unique (7% de valeurs non renseignées)<br/>\n",
    "nbv : nombre total de voies de circulation: 60% 2 voies de circulation (5% non renseigné)<br/>\n",
    "vosp : signale l'existence d'une voie réservée, indépendemment du fait que l'accident ait lieu ou non sur cette voie (80% sans objet) A SUPPRIMER<br/>\n",
    "prof : Profil en long décrit la déclivité de la route : 82 % profil plat( -1 % non renseigner)<br/>\n",
    "pr : Numero de PR de rattachement (numero de la borne amont): pas d'intérêt sur les causes et non renseigné (40%): A SUPPRIMER<br/>\n",
    "pr1 : distance en m de la borne de rattachement:pas d'intérêt sur les causes et non renseigné (40%): A SUPPRIMER<br/>\n",
    "plan:82% en partie rectiligne( -1 % non renseigner)<br/>\n",
    "lartpc: non renseigner: A SUPPRIMER<br/>\n",
    "larrout : 75 % des données non renseignées A SUPPRIMER<br/>\n",
    "surf :  etat de surface: 80 % des cas  dus  à une surface normale ( -1 % non renseigner)<br/>\n",
    "infra:  Aménagement-Infrastructure : 80% des cas pas d'ammenagement( 1,3 % non renseigner)<br/>\n",
    "situ :  situation de l'accident: 80% sur chaussée ( -1 % non renseigner)<br/>\n",
    "vma: vitesse maximale autorisée sur le lieu au moment de l'accident: dans 45% des cas  50 km/h et ( -1 % non renseigner)<br/>"
   ]
  },
  {
   "cell_type": "code",
   "execution_count": null,
   "metadata": {},
   "outputs": [],
   "source": [
    "# fichier usager"
   ]
  },
  {
   "cell_type": "code",
   "execution_count": 24,
   "metadata": {},
   "outputs": [
    {
     "name": "stdout",
     "output_type": "stream",
     "text": [
      "<class 'pandas.core.frame.DataFrame'>\n",
      "RangeIndex: 125789 entries, 0 to 125788\n",
      "Data columns (total 16 columns):\n",
      " #   Column       Non-Null Count   Dtype  \n",
      "---  ------       --------------   -----  \n",
      " 0   Num_Acc      125789 non-null  int64  \n",
      " 1   id_usager    125789 non-null  object \n",
      " 2   id_vehicule  125789 non-null  object \n",
      " 3   num_veh      125789 non-null  object \n",
      " 4   place        125789 non-null  int64  \n",
      " 5   catu         125789 non-null  int64  \n",
      " 6   grav         125789 non-null  int64  \n",
      " 7   sexe         125789 non-null  int64  \n",
      " 8   an_nais      123191 non-null  float64\n",
      " 9   trajet       125789 non-null  int64  \n",
      " 10  secu1        125789 non-null  int64  \n",
      " 11  secu2        125789 non-null  int64  \n",
      " 12  secu3        125789 non-null  int64  \n",
      " 13  locp         125789 non-null  int64  \n",
      " 14  actp         125789 non-null  object \n",
      " 15  etatp        125789 non-null  int64  \n",
      "dtypes: float64(1), int64(11), object(4)\n",
      "memory usage: 15.4+ MB\n"
     ]
    }
   ],
   "source": [
    "df_usagers.info()"
   ]
  },
  {
   "cell_type": "code",
   "execution_count": 25,
   "metadata": {},
   "outputs": [
    {
     "data": {
      "text/plain": [
       "Num_Acc           0\n",
       "id_usager         0\n",
       "id_vehicule       0\n",
       "num_veh           0\n",
       "place             0\n",
       "catu              0\n",
       "grav              0\n",
       "sexe              0\n",
       "an_nais        2598\n",
       "trajet            0\n",
       "secu1             0\n",
       "secu2             0\n",
       "secu3             0\n",
       "locp              0\n",
       "actp              0\n",
       "etatp             0\n",
       "dtype: int64"
      ]
     },
     "execution_count": 25,
     "metadata": {},
     "output_type": "execute_result"
    }
   ],
   "source": [
    "df_usagers.isnull().sum(axis =0)"
   ]
  },
  {
   "cell_type": "code",
   "execution_count": 26,
   "metadata": {},
   "outputs": [
    {
     "data": {
      "text/html": [
       "<div>\n",
       "<style scoped>\n",
       "    .dataframe tbody tr th:only-of-type {\n",
       "        vertical-align: middle;\n",
       "    }\n",
       "\n",
       "    .dataframe tbody tr th {\n",
       "        vertical-align: top;\n",
       "    }\n",
       "\n",
       "    .dataframe thead th {\n",
       "        text-align: right;\n",
       "    }\n",
       "</style>\n",
       "<table border=\"1\" class=\"dataframe\">\n",
       "  <thead>\n",
       "    <tr style=\"text-align: right;\">\n",
       "      <th></th>\n",
       "      <th>Num_Acc</th>\n",
       "      <th>place</th>\n",
       "      <th>catu</th>\n",
       "      <th>grav</th>\n",
       "      <th>sexe</th>\n",
       "      <th>an_nais</th>\n",
       "      <th>trajet</th>\n",
       "      <th>secu1</th>\n",
       "      <th>secu2</th>\n",
       "      <th>secu3</th>\n",
       "      <th>locp</th>\n",
       "      <th>etatp</th>\n",
       "    </tr>\n",
       "  </thead>\n",
       "  <tbody>\n",
       "    <tr>\n",
       "      <th>count</th>\n",
       "      <td>1.257890e+05</td>\n",
       "      <td>125789.000000</td>\n",
       "      <td>125789.000000</td>\n",
       "      <td>125789.000000</td>\n",
       "      <td>125789.000000</td>\n",
       "      <td>123191.000000</td>\n",
       "      <td>125789.000000</td>\n",
       "      <td>125789.000000</td>\n",
       "      <td>125789.000000</td>\n",
       "      <td>125789.000000</td>\n",
       "      <td>125789.000000</td>\n",
       "      <td>125789.000000</td>\n",
       "    </tr>\n",
       "    <tr>\n",
       "      <th>mean</th>\n",
       "      <td>2.023000e+11</td>\n",
       "      <td>2.091646</td>\n",
       "      <td>1.332684</td>\n",
       "      <td>2.514544</td>\n",
       "      <td>1.274134</td>\n",
       "      <td>1984.252023</td>\n",
       "      <td>3.128692</td>\n",
       "      <td>1.932323</td>\n",
       "      <td>0.902885</td>\n",
       "      <td>-0.885284</td>\n",
       "      <td>-0.236046</td>\n",
       "      <td>-0.816232</td>\n",
       "    </tr>\n",
       "    <tr>\n",
       "      <th>std</th>\n",
       "      <td>1.582901e+04</td>\n",
       "      <td>2.582452</td>\n",
       "      <td>0.611056</td>\n",
       "      <td>1.377953</td>\n",
       "      <td>0.561198</td>\n",
       "      <td>19.099389</td>\n",
       "      <td>2.754842</td>\n",
       "      <td>2.371647</td>\n",
       "      <td>2.980147</td>\n",
       "      <td>1.004342</td>\n",
       "      <td>1.279765</td>\n",
       "      <td>0.640256</td>\n",
       "    </tr>\n",
       "    <tr>\n",
       "      <th>min</th>\n",
       "      <td>2.023000e+11</td>\n",
       "      <td>-1.000000</td>\n",
       "      <td>1.000000</td>\n",
       "      <td>-1.000000</td>\n",
       "      <td>-1.000000</td>\n",
       "      <td>1913.000000</td>\n",
       "      <td>-1.000000</td>\n",
       "      <td>-1.000000</td>\n",
       "      <td>-1.000000</td>\n",
       "      <td>-1.000000</td>\n",
       "      <td>-1.000000</td>\n",
       "      <td>-1.000000</td>\n",
       "    </tr>\n",
       "    <tr>\n",
       "      <th>25%</th>\n",
       "      <td>2.023000e+11</td>\n",
       "      <td>1.000000</td>\n",
       "      <td>1.000000</td>\n",
       "      <td>1.000000</td>\n",
       "      <td>1.000000</td>\n",
       "      <td>1971.000000</td>\n",
       "      <td>0.000000</td>\n",
       "      <td>1.000000</td>\n",
       "      <td>-1.000000</td>\n",
       "      <td>-1.000000</td>\n",
       "      <td>-1.000000</td>\n",
       "      <td>-1.000000</td>\n",
       "    </tr>\n",
       "    <tr>\n",
       "      <th>50%</th>\n",
       "      <td>2.023000e+11</td>\n",
       "      <td>1.000000</td>\n",
       "      <td>1.000000</td>\n",
       "      <td>3.000000</td>\n",
       "      <td>1.000000</td>\n",
       "      <td>1988.000000</td>\n",
       "      <td>4.000000</td>\n",
       "      <td>1.000000</td>\n",
       "      <td>0.000000</td>\n",
       "      <td>-1.000000</td>\n",
       "      <td>-1.000000</td>\n",
       "      <td>-1.000000</td>\n",
       "    </tr>\n",
       "    <tr>\n",
       "      <th>75%</th>\n",
       "      <td>2.023000e+11</td>\n",
       "      <td>2.000000</td>\n",
       "      <td>2.000000</td>\n",
       "      <td>4.000000</td>\n",
       "      <td>2.000000</td>\n",
       "      <td>2000.000000</td>\n",
       "      <td>5.000000</td>\n",
       "      <td>2.000000</td>\n",
       "      <td>0.000000</td>\n",
       "      <td>-1.000000</td>\n",
       "      <td>0.000000</td>\n",
       "      <td>-1.000000</td>\n",
       "    </tr>\n",
       "    <tr>\n",
       "      <th>max</th>\n",
       "      <td>2.023001e+11</td>\n",
       "      <td>10.000000</td>\n",
       "      <td>3.000000</td>\n",
       "      <td>4.000000</td>\n",
       "      <td>2.000000</td>\n",
       "      <td>2023.000000</td>\n",
       "      <td>9.000000</td>\n",
       "      <td>9.000000</td>\n",
       "      <td>9.000000</td>\n",
       "      <td>9.000000</td>\n",
       "      <td>9.000000</td>\n",
       "      <td>3.000000</td>\n",
       "    </tr>\n",
       "  </tbody>\n",
       "</table>\n",
       "</div>"
      ],
      "text/plain": [
       "            Num_Acc          place           catu           grav  \\\n",
       "count  1.257890e+05  125789.000000  125789.000000  125789.000000   \n",
       "mean   2.023000e+11       2.091646       1.332684       2.514544   \n",
       "std    1.582901e+04       2.582452       0.611056       1.377953   \n",
       "min    2.023000e+11      -1.000000       1.000000      -1.000000   \n",
       "25%    2.023000e+11       1.000000       1.000000       1.000000   \n",
       "50%    2.023000e+11       1.000000       1.000000       3.000000   \n",
       "75%    2.023000e+11       2.000000       2.000000       4.000000   \n",
       "max    2.023001e+11      10.000000       3.000000       4.000000   \n",
       "\n",
       "                sexe        an_nais         trajet          secu1  \\\n",
       "count  125789.000000  123191.000000  125789.000000  125789.000000   \n",
       "mean        1.274134    1984.252023       3.128692       1.932323   \n",
       "std         0.561198      19.099389       2.754842       2.371647   \n",
       "min        -1.000000    1913.000000      -1.000000      -1.000000   \n",
       "25%         1.000000    1971.000000       0.000000       1.000000   \n",
       "50%         1.000000    1988.000000       4.000000       1.000000   \n",
       "75%         2.000000    2000.000000       5.000000       2.000000   \n",
       "max         2.000000    2023.000000       9.000000       9.000000   \n",
       "\n",
       "               secu2          secu3           locp          etatp  \n",
       "count  125789.000000  125789.000000  125789.000000  125789.000000  \n",
       "mean        0.902885      -0.885284      -0.236046      -0.816232  \n",
       "std         2.980147       1.004342       1.279765       0.640256  \n",
       "min        -1.000000      -1.000000      -1.000000      -1.000000  \n",
       "25%        -1.000000      -1.000000      -1.000000      -1.000000  \n",
       "50%         0.000000      -1.000000      -1.000000      -1.000000  \n",
       "75%         0.000000      -1.000000       0.000000      -1.000000  \n",
       "max         9.000000       9.000000       9.000000       3.000000  "
      ]
     },
     "execution_count": 26,
     "metadata": {},
     "output_type": "execute_result"
    }
   ],
   "source": [
    "df_usagers.describe()"
   ]
  },
  {
   "cell_type": "code",
   "execution_count": 27,
   "metadata": {},
   "outputs": [
    {
     "data": {
      "text/plain": [
       "place\n",
       " 1     0.742831\n",
       " 2     0.111774\n",
       " 10    0.075690\n",
       " 3     0.019239\n",
       " 4     0.018054\n",
       " 9     0.010398\n",
       " 7     0.009683\n",
       " 5     0.006074\n",
       " 8     0.004635\n",
       " 6     0.001606\n",
       "-1     0.000016\n",
       "Name: proportion, dtype: float64"
      ]
     },
     "execution_count": 27,
     "metadata": {},
     "output_type": "execute_result"
    }
   ],
   "source": [
    "df_usagers['place'].value_counts(normalize =True)"
   ]
  },
  {
   "cell_type": "code",
   "execution_count": 28,
   "metadata": {},
   "outputs": [
    {
     "data": {
      "text/plain": [
       "catu\n",
       "1    0.743006\n",
       "2    0.181304\n",
       "3    0.075690\n",
       "Name: proportion, dtype: float64"
      ]
     },
     "execution_count": 28,
     "metadata": {},
     "output_type": "execute_result"
    }
   ],
   "source": [
    "df_usagers['catu'].value_counts(normalize =True)"
   ]
  },
  {
   "cell_type": "code",
   "execution_count": 29,
   "metadata": {},
   "outputs": [
    {
     "data": {
      "text/plain": [
       "grav\n",
       " 1    0.424512\n",
       " 4    0.394335\n",
       " 3    0.153201\n",
       " 2    0.027013\n",
       "-1    0.000938\n",
       "Name: proportion, dtype: float64"
      ]
     },
     "execution_count": 29,
     "metadata": {},
     "output_type": "execute_result"
    }
   ],
   "source": [
    "df_usagers['grav'].value_counts(normalize =True)"
   ]
  },
  {
   "cell_type": "code",
   "execution_count": 30,
   "metadata": {},
   "outputs": [
    {
     "data": {
      "text/plain": [
       "sexe\n",
       " 1    0.667888\n",
       " 2    0.312786\n",
       "-1    0.019326\n",
       "Name: proportion, dtype: float64"
      ]
     },
     "execution_count": 30,
     "metadata": {},
     "output_type": "execute_result"
    }
   ],
   "source": [
    "df_usagers['sexe'].value_counts(normalize =True)"
   ]
  },
  {
   "cell_type": "code",
   "execution_count": 31,
   "metadata": {},
   "outputs": [
    {
     "data": {
      "text/plain": [
       "an_nais\n",
       "2003.0    0.030083\n",
       "2001.0    0.029182\n",
       "2002.0    0.028939\n",
       "2000.0    0.028785\n",
       "2004.0    0.026909\n",
       "            ...   \n",
       "1921.0    0.000016\n",
       "1917.0    0.000008\n",
       "1920.0    0.000008\n",
       "1919.0    0.000008\n",
       "1913.0    0.000008\n",
       "Name: proportion, Length: 107, dtype: float64"
      ]
     },
     "execution_count": 31,
     "metadata": {},
     "output_type": "execute_result"
    }
   ],
   "source": [
    "df_usagers['an_nais'].value_counts(normalize =True)"
   ]
  },
  {
   "cell_type": "code",
   "execution_count": 32,
   "metadata": {},
   "outputs": [
    {
     "data": {
      "text/plain": [
       "trajet\n",
       " 5    0.366733\n",
       " 0    0.264753\n",
       " 1    0.130973\n",
       " 4    0.087472\n",
       " 9    0.077861\n",
       " 3    0.028603\n",
       " 2    0.023738\n",
       "-1    0.019867\n",
       "Name: proportion, dtype: float64"
      ]
     },
     "execution_count": 32,
     "metadata": {},
     "output_type": "execute_result"
    }
   ],
   "source": [
    "df_usagers['trajet'].value_counts(normalize =True)"
   ]
  },
  {
   "cell_type": "code",
   "execution_count": 33,
   "metadata": {},
   "outputs": [
    {
     "data": {
      "text/plain": [
       "secu1\n",
       " 1    0.580242\n",
       " 2    0.174991\n",
       " 8    0.123063\n",
       " 0    0.094905\n",
       "-1    0.018221\n",
       " 3    0.005772\n",
       " 6    0.001073\n",
       " 9    0.000978\n",
       " 4    0.000533\n",
       " 5    0.000215\n",
       " 7    0.000008\n",
       "Name: proportion, dtype: float64"
      ]
     },
     "execution_count": 33,
     "metadata": {},
     "output_type": "execute_result"
    }
   ],
   "source": [
    "df_usagers['secu1'].value_counts(normalize =True)"
   ]
  },
  {
   "cell_type": "code",
   "execution_count": 34,
   "metadata": {},
   "outputs": [
    {
     "data": {
      "text/plain": [
       "secu2\n",
       "-1    0.440571\n",
       " 0    0.354856\n",
       " 6    0.094539\n",
       " 8    0.078966\n",
       " 4    0.012123\n",
       " 5    0.009174\n",
       " 9    0.003713\n",
       " 1    0.002456\n",
       " 3    0.001455\n",
       " 7    0.001121\n",
       " 2    0.001026\n",
       "Name: proportion, dtype: float64"
      ]
     },
     "execution_count": 34,
     "metadata": {},
     "output_type": "execute_result"
    }
   ],
   "source": [
    "df_usagers['secu2'].value_counts(normalize =True)"
   ]
  },
  {
   "cell_type": "code",
   "execution_count": 35,
   "metadata": {},
   "outputs": [
    {
     "data": {
      "text/plain": [
       "secu3\n",
       "-1    0.980944\n",
       " 9    0.008133\n",
       " 0    0.006241\n",
       " 8    0.001868\n",
       " 1    0.001590\n",
       " 6    0.000636\n",
       " 2    0.000191\n",
       " 4    0.000175\n",
       " 5    0.000135\n",
       " 3    0.000064\n",
       " 7    0.000024\n",
       "Name: proportion, dtype: float64"
      ]
     },
     "execution_count": 35,
     "metadata": {},
     "output_type": "execute_result"
    }
   ],
   "source": [
    "df_usagers['secu3'].value_counts(normalize =True)"
   ]
  },
  {
   "cell_type": "code",
   "execution_count": 36,
   "metadata": {},
   "outputs": [
    {
     "data": {
      "text/plain": [
       "locp\n",
       "-1    0.503462\n",
       " 0    0.416205\n",
       " 3    0.026004\n",
       " 2    0.015725\n",
       " 4    0.012155\n",
       " 1    0.011567\n",
       " 5    0.006694\n",
       " 9    0.004221\n",
       " 6    0.002671\n",
       " 8    0.001208\n",
       " 7    0.000087\n",
       "Name: proportion, dtype: float64"
      ]
     },
     "execution_count": 36,
     "metadata": {},
     "output_type": "execute_result"
    }
   ],
   "source": [
    "df_usagers['locp'].value_counts(normalize =True)"
   ]
  },
  {
   "cell_type": "code",
   "execution_count": 37,
   "metadata": {},
   "outputs": [
    {
     "data": {
      "text/plain": [
       "actp\n",
       " -1    0.502850\n",
       "0      0.416849\n",
       "3      0.059186\n",
       "9      0.005517\n",
       "1      0.005215\n",
       "B      0.002973\n",
       "5      0.002751\n",
       "2      0.002512\n",
       "A      0.000938\n",
       "4      0.000715\n",
       "6      0.000231\n",
       "7      0.000191\n",
       "8      0.000072\n",
       "Name: proportion, dtype: float64"
      ]
     },
     "execution_count": 37,
     "metadata": {},
     "output_type": "execute_result"
    }
   ],
   "source": [
    "df_usagers['actp'].value_counts(normalize =True)"
   ]
  },
  {
   "cell_type": "code",
   "execution_count": 39,
   "metadata": {},
   "outputs": [
    {
     "data": {
      "text/plain": [
       "etatp\n",
       "-1    0.919715\n",
       " 1    0.060371\n",
       " 2    0.016631\n",
       " 3    0.003283\n",
       "Name: proportion, dtype: float64"
      ]
     },
     "execution_count": 39,
     "metadata": {},
     "output_type": "execute_result"
    }
   ],
   "source": [
    "df_usagers['etatp'].value_counts(normalize =True)"
   ]
  },
  {
   "cell_type": "markdown",
   "metadata": {},
   "source": [
    "Commentaires Fichier usager \n",
    "\n",
    "tableau 125000 lignes , 16 colonnes: 4 types objet, 1float, 11 types entiers\n",
    "\n",
    "Num_ACC: à conserver\n",
    "id_usager  : A SUPPRIMER\n",
    "id_vehicule : A SUPPRIMER\n",
    "num_Veh : A SUPPRIMER\n",
    "place : Essentiellement en place conducteur(74%) et passager avant(11%) puis piéton (7%)\n",
    "catu  : Même information que place (en supprimer 1 des 2)\n",
    "grav :TARGET\n",
    "sexe : 66% d'hommes et 32% de femmes\n",
    "An_nais : année de naissance de l'usager:manque des valeurs et plus de 107 critères, à regrouper par tranche ?\n",
    "trajet: 36,6 % pour les loisirs mais 26% non renseignés?\n",
    "secu1: équipement de sécurité de l'usager: 58 % porte 1 ceinture,17% porte 1 casque et 12 % ce n'est pas identifiable\n",
    "secu2: équipement de sécurité de l'usager: pas renseigné (44%)ou pas de second équipement (35%)\n",
    "secu3: non renseigné à 98 % A SUPPRIMER\n",
    "locp : localisation du pieton 91% non renseigneé+ sans objet  A SUPPRIMER\n",
    "actp: action du piéton (95% non renseigné  ou sans objet)A SUPPRIMER\n",
    "etap : piéton accidenté  accompagné ou non( non renseigné à 91% ) A SUPPRIMER\n",
    "\n",
    "\n",
    "\n",
    "\n",
    "\n",
    "\n",
    "\n",
    "\n",
    "\n",
    "\n",
    "\n"
   ]
  },
  {
   "cell_type": "code",
   "execution_count": null,
   "metadata": {},
   "outputs": [],
   "source": []
  },
  {
   "cell_type": "code",
   "execution_count": null,
   "metadata": {},
   "outputs": [],
   "source": []
  },
  {
   "cell_type": "code",
   "execution_count": null,
   "metadata": {},
   "outputs": [],
   "source": []
  },
  {
   "cell_type": "code",
   "execution_count": null,
   "metadata": {},
   "outputs": [],
   "source": []
  },
  {
   "cell_type": "code",
   "execution_count": null,
   "metadata": {},
   "outputs": [],
   "source": []
  },
  {
   "cell_type": "code",
   "execution_count": null,
   "metadata": {},
   "outputs": [],
   "source": []
  },
  {
   "cell_type": "code",
   "execution_count": null,
   "metadata": {},
   "outputs": [],
   "source": []
  },
  {
   "cell_type": "code",
   "execution_count": null,
   "metadata": {},
   "outputs": [],
   "source": []
  },
  {
   "cell_type": "code",
   "execution_count": null,
   "metadata": {},
   "outputs": [],
   "source": []
  }
 ],
 "metadata": {
  "kernelspec": {
   "display_name": "isavenv",
   "language": "python",
   "name": "python3"
  },
  "language_info": {
   "codemirror_mode": {
    "name": "ipython",
    "version": 3
   },
   "file_extension": ".py",
   "mimetype": "text/x-python",
   "name": "python",
   "nbconvert_exporter": "python",
   "pygments_lexer": "ipython3",
   "version": "3.12.3"
  }
 },
 "nbformat": 4,
 "nbformat_minor": 2
}
